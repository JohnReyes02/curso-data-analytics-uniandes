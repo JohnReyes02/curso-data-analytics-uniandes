{
 "cells": [
  {
   "cell_type": "markdown",
   "metadata": {},
   "source": [
    "# Sesión 2: Transformación  y aseguramiento de calidad\n"
   ]
  },
  {
   "cell_type": "markdown",
   "metadata": {},
   "source": [
    "Esta práctica se realizará sobre los datos obtenidos de la página https://www.kaggle.com\n",
    "<br> Antes de iniciar acceda al archivo ReadMe.txt disponible en la carpeta y revise la descripción de los datos a trabajar en la sesión."
   ]
  },
  {
   "cell_type": "markdown",
   "metadata": {},
   "source": []
  },
  {
   "cell_type": "markdown",
   "metadata": {},
   "source": [
    "### Preparación del ambiente de trabajo\n",
    "#### Cargue de librerías"
   ]
  },
  {
   "cell_type": "code",
   "execution_count": 1,
   "metadata": {},
   "outputs": [],
   "source": [
    "import os, sys\n",
    "import numpy as np\n",
    "import pandas as pd\n",
    "import matplotlib.pyplot as plt"
   ]
  },
  {
   "cell_type": "markdown",
   "metadata": {},
   "source": [
    "### Lectura de los datos\n",
    "<br> Ingrese a la carpeta compartida en Onedrive TALLER 2 y descargue los 3 archivos disponibles, tenga en cuenta que están en formato distinto\n",
    "<br> Configuración del directorio"
   ]
  },
  {
   "cell_type": "code",
   "execution_count": null,
   "metadata": {},
   "outputs": [],
   "source": [
    "%cd C:\\Users\\X1 Carbon\\OneDrive\\Documentos\\1_NEICON\\1_Proyectos\\2_Carpeta Tito\\Capacitación UniAndes_Ecopetrol\\Datsets\\Taller_2\\Modificados"
   ]
  },
  {
   "cell_type": "code",
   "execution_count": 2,
   "metadata": {},
   "outputs": [
    {
     "data": {
      "text/html": [
       "<div>\n",
       "<style scoped>\n",
       "    .dataframe tbody tr th:only-of-type {\n",
       "        vertical-align: middle;\n",
       "    }\n",
       "\n",
       "    .dataframe tbody tr th {\n",
       "        vertical-align: top;\n",
       "    }\n",
       "\n",
       "    .dataframe thead th {\n",
       "        text-align: right;\n",
       "    }\n",
       "</style>\n",
       "<table border=\"1\" class=\"dataframe\">\n",
       "  <thead>\n",
       "    <tr style=\"text-align: right;\">\n",
       "      <th></th>\n",
       "      <th>datetime</th>\n",
       "      <th>machineID</th>\n",
       "      <th>volt</th>\n",
       "      <th>rotate</th>\n",
       "      <th>pressure</th>\n",
       "      <th>vibration</th>\n",
       "      <th>Columna1</th>\n",
       "    </tr>\n",
       "  </thead>\n",
       "  <tbody>\n",
       "    <tr>\n",
       "      <th>0</th>\n",
       "      <td>8/12/2015 15:00</td>\n",
       "      <td>79</td>\n",
       "      <td>194.071741</td>\n",
       "      <td>484.698993</td>\n",
       "      <td>101.085953</td>\n",
       "      <td>47.317101</td>\n",
       "      <td>NaN</td>\n",
       "    </tr>\n",
       "    <tr>\n",
       "      <th>1</th>\n",
       "      <td>11/12/2015 06:00</td>\n",
       "      <td>15</td>\n",
       "      <td>153.546984</td>\n",
       "      <td>454.170621</td>\n",
       "      <td>113.613686</td>\n",
       "      <td>38.416344</td>\n",
       "      <td>NaN</td>\n",
       "    </tr>\n",
       "    <tr>\n",
       "      <th>2</th>\n",
       "      <td>28/6/2015 20:00</td>\n",
       "      <td>62</td>\n",
       "      <td>122.492361</td>\n",
       "      <td>386.409669</td>\n",
       "      <td>102.970808</td>\n",
       "      <td>41.206891</td>\n",
       "      <td>NaN</td>\n",
       "    </tr>\n",
       "    <tr>\n",
       "      <th>3</th>\n",
       "      <td>24/7/2015 04:00</td>\n",
       "      <td>51</td>\n",
       "      <td>183.098835</td>\n",
       "      <td>448.021654</td>\n",
       "      <td>108.709299</td>\n",
       "      <td>41.493329</td>\n",
       "      <td>NaN</td>\n",
       "    </tr>\n",
       "  </tbody>\n",
       "</table>\n",
       "</div>"
      ],
      "text/plain": [
       "           datetime  machineID        volt      rotate    pressure  vibration  \\\n",
       "0   8/12/2015 15:00         79  194.071741  484.698993  101.085953  47.317101   \n",
       "1  11/12/2015 06:00         15  153.546984  454.170621  113.613686  38.416344   \n",
       "2   28/6/2015 20:00         62  122.492361  386.409669  102.970808  41.206891   \n",
       "3   24/7/2015 04:00         51  183.098835  448.021654  108.709299  41.493329   \n",
       "\n",
       "   Columna1  \n",
       "0       NaN  \n",
       "1       NaN  \n",
       "2       NaN  \n",
       "3       NaN  "
      ]
     },
     "execution_count": 2,
     "metadata": {},
     "output_type": "execute_result"
    }
   ],
   "source": [
    "# Cague de los archivos en formato texto o excel\n",
    "df_PdM_telemetry=pd.read_csv('PdM_telemetry.csv', sep=';')\n",
    "df_PdM_telemetry.head(4)"
   ]
  },
  {
   "cell_type": "code",
   "execution_count": 3,
   "metadata": {},
   "outputs": [
    {
     "data": {
      "text/html": [
       "<div>\n",
       "<style scoped>\n",
       "    .dataframe tbody tr th:only-of-type {\n",
       "        vertical-align: middle;\n",
       "    }\n",
       "\n",
       "    .dataframe tbody tr th {\n",
       "        vertical-align: top;\n",
       "    }\n",
       "\n",
       "    .dataframe thead th {\n",
       "        text-align: right;\n",
       "    }\n",
       "</style>\n",
       "<table border=\"1\" class=\"dataframe\">\n",
       "  <thead>\n",
       "    <tr style=\"text-align: right;\">\n",
       "      <th></th>\n",
       "      <th>datetime</th>\n",
       "      <th>machineID</th>\n",
       "      <th>errorID</th>\n",
       "    </tr>\n",
       "  </thead>\n",
       "  <tbody>\n",
       "    <tr>\n",
       "      <th>0</th>\n",
       "      <td>2015-01-03 07:00:00</td>\n",
       "      <td>1</td>\n",
       "      <td>error1</td>\n",
       "    </tr>\n",
       "    <tr>\n",
       "      <th>1</th>\n",
       "      <td>2015-01-03 20:00:00</td>\n",
       "      <td>1</td>\n",
       "      <td>error3</td>\n",
       "    </tr>\n",
       "    <tr>\n",
       "      <th>2</th>\n",
       "      <td>2015-01-04 06:00:00</td>\n",
       "      <td>1</td>\n",
       "      <td>error5</td>\n",
       "    </tr>\n",
       "    <tr>\n",
       "      <th>3</th>\n",
       "      <td>2015-01-10 15:00:00</td>\n",
       "      <td>1</td>\n",
       "      <td>error4</td>\n",
       "    </tr>\n",
       "  </tbody>\n",
       "</table>\n",
       "</div>"
      ],
      "text/plain": [
       "             datetime  machineID errorID\n",
       "0 2015-01-03 07:00:00          1  error1\n",
       "1 2015-01-03 20:00:00          1  error3\n",
       "2 2015-01-04 06:00:00          1  error5\n",
       "3 2015-01-10 15:00:00          1  error4"
      ]
     },
     "execution_count": 3,
     "metadata": {},
     "output_type": "execute_result"
    }
   ],
   "source": [
    "df_PdM_errors=pd.read_excel('PdM_errors.xlsx')\n",
    "df_PdM_errors.head(4)"
   ]
  },
  {
   "cell_type": "markdown",
   "metadata": {},
   "source": [
    "### Exploración de los datos\n",
    "<br> Utilice los comandos aprendidos en la sesión 1 para explorar los datos disponibles en los dataset PdM_telemetry y PdM_errors\n",
    "<br> Analice la cantidad de registros, cantidad y tipo de variables"
   ]
  },
  {
   "cell_type": "code",
   "execution_count": 4,
   "metadata": {},
   "outputs": [
    {
     "name": "stdout",
     "output_type": "stream",
     "text": [
      "Hojas disponibles: dict_keys(['PdM_machines', 'PdM_failures', 'PdM_maint'])\n"
     ]
    }
   ],
   "source": [
    "# Vamos a cargar el archivo con todas las hojas disponibles en el archivo, creando un diccionario\n",
    "archivo_excel = pd.read_excel('Dataset_integrado.xlsx', sheet_name=None)\n",
    "\n",
    "# Revisamos los nombres de las hojas\n",
    "print(\"Hojas disponibles:\", archivo_excel.keys())"
   ]
  },
  {
   "cell_type": "code",
   "execution_count": 5,
   "metadata": {},
   "outputs": [
    {
     "name": "stdout",
     "output_type": "stream",
     "text": [
      "\n",
      "Mostrando las primeras filas de la hoja: PdM_machines\n",
      "   machineID   model  age\n",
      "0          1  model3   18\n",
      "1          2  model4    7\n",
      "2          3  model3    8\n",
      "3          4  model3    7\n",
      "4          5  model3    2\n",
      "\n",
      "Mostrando las primeras filas de la hoja: PdM_failures\n",
      "             datetime  machineID failure\n",
      "0 2015-01-05 06:00:00          1   comp4\n",
      "1 2015-03-06 06:00:00          1   comp1\n",
      "2 2015-04-20 06:00:00          1   comp2\n",
      "3 2015-06-19 06:00:00          1   comp4\n",
      "4 2015-09-02 06:00:00          1   comp4\n",
      "\n",
      "Mostrando las primeras filas de la hoja: PdM_maint\n",
      "             datetime  machineID   comp\n",
      "0 2014-06-01 06:00:00          1  comp2\n",
      "1 2014-07-16 06:00:00          1  comp4\n",
      "2 2014-07-31 06:00:00          1  comp3\n",
      "3 2014-12-13 06:00:00          1  comp1\n",
      "4 2015-01-05 06:00:00          1  comp4\n"
     ]
    }
   ],
   "source": [
    "# Para visualizar el contenido de cada hoja usamos esta instrucción\n",
    "for nombre_hoja, df in archivo_excel.items():\n",
    "    print(f\"\\nMostrando las primeras filas de la hoja: {nombre_hoja}\")\n",
    "    print(df.head())"
   ]
  },
  {
   "cell_type": "code",
   "execution_count": 6,
   "metadata": {
    "scrolled": true
   },
   "outputs": [],
   "source": [
    "## Comando Para crear un dataframe con el contenido de cada hoja\n",
    "#df_hoja1 = archivo_excel['Hoja1']  # reemplaza 'Hoja1' por el nombre real\n",
    "\n",
    "#Acá el ejemplo para los datos de PdM_failures, replica el ejercicio para todas y realiza una exploración rápida del contenido empleando \n",
    "#lo aprendido en la sesion anterior\n",
    "\n",
    "df_PdM_maint = archivo_excel['PdM_maint']\n",
    "\n",
    "df_PdM_failures = archivo_excel['PdM_failures']\n",
    "\n",
    "df_PdM_machines = archivo_excel['PdM_machines']\n"
   ]
  },
  {
   "cell_type": "code",
   "execution_count": 10,
   "metadata": {},
   "outputs": [
    {
     "data": {
      "text/plain": [
       "(761, 3)"
      ]
     },
     "execution_count": 10,
     "metadata": {},
     "output_type": "execute_result"
    }
   ],
   "source": [
    "df_PdM_failures.shape"
   ]
  },
  {
   "cell_type": "code",
   "execution_count": 8,
   "metadata": {},
   "outputs": [
    {
     "data": {
      "text/plain": [
       "(4114, 3)"
      ]
     },
     "execution_count": 8,
     "metadata": {},
     "output_type": "execute_result"
    }
   ],
   "source": [
    "df_PdM_errors.shape"
   ]
  },
  {
   "cell_type": "code",
   "execution_count": 11,
   "metadata": {},
   "outputs": [
    {
     "data": {
      "text/plain": [
       "(3286, 3)"
      ]
     },
     "execution_count": 11,
     "metadata": {},
     "output_type": "execute_result"
    }
   ],
   "source": [
    "df_PdM_maint.shape"
   ]
  },
  {
   "cell_type": "code",
   "execution_count": 13,
   "metadata": {},
   "outputs": [
    {
     "data": {
      "text/plain": [
       "(100, 3)"
      ]
     },
     "execution_count": 13,
     "metadata": {},
     "output_type": "execute_result"
    }
   ],
   "source": [
    "df_PdM_machines.shape"
   ]
  },
  {
   "cell_type": "code",
   "execution_count": 14,
   "metadata": {},
   "outputs": [
    {
     "data": {
      "text/plain": [
       "(876120, 7)"
      ]
     },
     "execution_count": 14,
     "metadata": {},
     "output_type": "execute_result"
    }
   ],
   "source": [
    "df_PdM_telemetry.shape"
   ]
  },
  {
   "cell_type": "code",
   "execution_count": 15,
   "metadata": {},
   "outputs": [
    {
     "data": {
      "text/plain": [
       "datetime     datetime64[ns]\n",
       "machineID             int64\n",
       "failure              object\n",
       "dtype: object"
      ]
     },
     "execution_count": 15,
     "metadata": {},
     "output_type": "execute_result"
    }
   ],
   "source": [
    "df_PdM_failures.dtypes"
   ]
  },
  {
   "cell_type": "code",
   "execution_count": 16,
   "metadata": {},
   "outputs": [
    {
     "data": {
      "text/plain": [
       "datetime     datetime64[ns]\n",
       "machineID             int64\n",
       "errorID              object\n",
       "dtype: object"
      ]
     },
     "execution_count": 16,
     "metadata": {},
     "output_type": "execute_result"
    }
   ],
   "source": [
    "df_PdM_errors.dtypes"
   ]
  },
  {
   "cell_type": "code",
   "execution_count": 17,
   "metadata": {},
   "outputs": [
    {
     "data": {
      "text/plain": [
       "datetime     datetime64[ns]\n",
       "machineID             int64\n",
       "comp                 object\n",
       "dtype: object"
      ]
     },
     "execution_count": 17,
     "metadata": {},
     "output_type": "execute_result"
    }
   ],
   "source": [
    "df_PdM_maint.dtypes"
   ]
  },
  {
   "cell_type": "code",
   "execution_count": 18,
   "metadata": {},
   "outputs": [
    {
     "data": {
      "text/plain": [
       "machineID     int64\n",
       "model        object\n",
       "age           int64\n",
       "dtype: object"
      ]
     },
     "execution_count": 18,
     "metadata": {},
     "output_type": "execute_result"
    }
   ],
   "source": [
    "df_PdM_machines.dtypes"
   ]
  },
  {
   "cell_type": "code",
   "execution_count": 19,
   "metadata": {},
   "outputs": [
    {
     "data": {
      "text/plain": [
       "datetime      object\n",
       "machineID      int64\n",
       "volt         float64\n",
       "rotate       float64\n",
       "pressure     float64\n",
       "vibration    float64\n",
       "Columna1     float64\n",
       "dtype: object"
      ]
     },
     "execution_count": 19,
     "metadata": {},
     "output_type": "execute_result"
    }
   ],
   "source": [
    "df_PdM_telemetry.dtypes"
   ]
  },
  {
   "cell_type": "markdown",
   "metadata": {
    "jp-MarkdownHeadingCollapsed": true
   },
   "source": [
    "### Quiz:\n",
    "#### 1. ¿Cuántos dataset hay en total? 5 dataset\n",
    "#### 2. ¿Qué cantidad de registro tiene cada dataset?  \n",
    "##### df_PdM_failures n = 761\n",
    "##### df_PdM_errors n = 4114\n",
    "##### df_PdM_maint n = 3286\n",
    "##### df_PdM_PdM_machines n = 100\n",
    "##### df_PdM_telemetry n = 876120\n",
    "#### 3. ¿Qué cantidad de variables tiene cada dataset?\n",
    "##### df_PdM_failures: 3\n",
    "##### df_PdM_errors: 3\n",
    "##### df_PdM_maint: 3\n",
    "##### df_PdM_PdM_machines: 3\n",
    "##### df_PdM_telemetry: 7\n",
    "#### 4. ¿Qué tipo de datos contiene cada dataset?\n",
    "##### df_PdM_failures: datetime, int64, object\n",
    "##### df_PdM_errors: datetime, int64, object\n",
    "##### df_PdM_maint: datetime, int64, object\n",
    "##### df_PdM_PdM_machines: int64, object\n",
    "##### df_PdM_telemetry: object, int64, float64"
   ]
  },
  {
   "cell_type": "code",
   "execution_count": 21,
   "metadata": {},
   "outputs": [
    {
     "data": {
      "text/plain": [
       "datetime          0\n",
       "machineID         0\n",
       "volt              0\n",
       "rotate            0\n",
       "pressure        100\n",
       "vibration         0\n",
       "Columna1     876120\n",
       "dtype: int64"
      ]
     },
     "execution_count": 21,
     "metadata": {},
     "output_type": "execute_result"
    }
   ],
   "source": [
    "df_PdM_telemetry.isna().sum()"
   ]
  },
  {
   "cell_type": "code",
   "execution_count": 23,
   "metadata": {},
   "outputs": [
    {
     "data": {
      "text/plain": [
       "np.int64(20)"
      ]
     },
     "execution_count": 23,
     "metadata": {},
     "output_type": "execute_result"
    }
   ],
   "source": [
    "df_PdM_telemetry.duplicated().sum()"
   ]
  },
  {
   "cell_type": "markdown",
   "metadata": {},
   "source": [
    "## Evaluación de calidad de los datos"
   ]
  },
  {
   "cell_type": "code",
   "execution_count": 20,
   "metadata": {},
   "outputs": [
    {
     "ename": "ModuleNotFoundError",
     "evalue": "No module named 'ydata_profiling'",
     "output_type": "error",
     "traceback": [
      "\u001b[31m---------------------------------------------------------------------------\u001b[39m",
      "\u001b[31mModuleNotFoundError\u001b[39m                       Traceback (most recent call last)",
      "\u001b[36mCell\u001b[39m\u001b[36m \u001b[39m\u001b[32mIn[20]\u001b[39m\u001b[32m, line 6\u001b[39m\n\u001b[32m      1\u001b[39m \u001b[38;5;66;03m#Para la exploración de variables vamos a utilizar una nueva librería.  Si esta no está disponible, la puede instalar en el \u001b[39;00m\n\u001b[32m      2\u001b[39m \u001b[38;5;66;03m#promt de Anaconda con la siguiente instrucción.  pip install ydata-profiling\u001b[39;00m\n\u001b[32m      3\u001b[39m \u001b[38;5;66;03m# Para facilitar el ejercicio listamos los dataframe que hemos cargado, así podrá copiar y pegar el nombre en las dos líneas de la siguiente sintáxis:\u001b[39;00m\n\u001b[32m      4\u001b[39m \u001b[38;5;66;03m# df_PdM_machines, df_PdM_failures, df_PdM_c, df_PdM_errors, df_PdM_telemetry\u001b[39;00m\n\u001b[32m----> \u001b[39m\u001b[32m6\u001b[39m \u001b[38;5;28;01mfrom\u001b[39;00m\u001b[38;5;250m \u001b[39m\u001b[34;01mydata_profiling\u001b[39;00m\u001b[38;5;250m \u001b[39m\u001b[38;5;28;01mimport\u001b[39;00m ProfileReport\n\u001b[32m      8\u001b[39m profile = ProfileReport(df_PdM_telemetry)  \u001b[38;5;66;03m#Esta sintaxis genera el reporte\u001b[39;00m\n\u001b[32m      9\u001b[39m profile.to_file(\u001b[33m\"\u001b[39m\u001b[33mReporte_PdM_telemetry\u001b[39m\u001b[33m\"\u001b[39m) \u001b[38;5;66;03m#Esta sintaxis guarda el reporte en un archivo HTML **Recomendado**\u001b[39;00m\n",
      "\u001b[31mModuleNotFoundError\u001b[39m: No module named 'ydata_profiling'"
     ]
    }
   ],
   "source": [
    "#Para la exploración de variables vamos a utilizar una nueva librería.  Si esta no está disponible, la puede instalar en el \n",
    "#promt de Anaconda con la siguiente instrucción.  pip install ydata-profiling\n",
    "# Para facilitar el ejercicio listamos los dataframe que hemos cargado, así podrá copiar y pegar el nombre en las dos líneas de la siguiente sintáxis:\n",
    "# df_PdM_machines, df_PdM_failures, df_PdM_c, df_PdM_errors, df_PdM_telemetry\n",
    "\n",
    "from ydata_profiling import ProfileReport\n",
    "\n",
    "profile = ProfileReport(df_PdM_telemetry)  #Esta sintaxis genera el reporte\n",
    "profile.to_file(\"Reporte_PdM_telemetry\") #Esta sintaxis guarda el reporte en un archivo HTML **Recomendado**"
   ]
  },
  {
   "cell_type": "markdown",
   "metadata": {},
   "source": [
    "Realice un breve informe de los resultados de la evaluación de calidad.\n",
    "<br>¿hay ajustes que realizar a los datos?"
   ]
  },
  {
   "cell_type": "markdown",
   "metadata": {},
   "source": [
    "## Mejoramiento de calidad de los datos\n",
    "\n",
    "### Eliminación de duplicados"
   ]
  },
  {
   "cell_type": "code",
   "execution_count": 25,
   "metadata": {},
   "outputs": [
    {
     "data": {
      "text/plain": [
       "(876120, 7)"
      ]
     },
     "execution_count": 25,
     "metadata": {},
     "output_type": "execute_result"
    }
   ],
   "source": [
    "df_PdM_telemetry.shape"
   ]
  },
  {
   "cell_type": "code",
   "execution_count": 24,
   "metadata": {},
   "outputs": [
    {
     "data": {
      "text/plain": [
       "(876100, 7)"
      ]
     },
     "execution_count": 24,
     "metadata": {},
     "output_type": "execute_result"
    }
   ],
   "source": [
    "# Elimina duplicados para el dataframe df_PdM_telemetry\n",
    "telemetry_sin_duplicados = df_PdM_telemetry.drop_duplicates() \n",
    "telemetry_sin_duplicados.shape"
   ]
  },
  {
   "cell_type": "markdown",
   "metadata": {},
   "source": [
    "### Corrección de valores extremos - Categorización"
   ]
  },
  {
   "cell_type": "code",
   "execution_count": 26,
   "metadata": {},
   "outputs": [
    {
     "data": {
      "text/html": [
       "<div>\n",
       "<style scoped>\n",
       "    .dataframe tbody tr th:only-of-type {\n",
       "        vertical-align: middle;\n",
       "    }\n",
       "\n",
       "    .dataframe tbody tr th {\n",
       "        vertical-align: top;\n",
       "    }\n",
       "\n",
       "    .dataframe thead th {\n",
       "        text-align: right;\n",
       "    }\n",
       "</style>\n",
       "<table border=\"1\" class=\"dataframe\">\n",
       "  <thead>\n",
       "    <tr style=\"text-align: right;\">\n",
       "      <th></th>\n",
       "      <th>datetime</th>\n",
       "      <th>machineID</th>\n",
       "      <th>volt</th>\n",
       "      <th>rotate</th>\n",
       "      <th>pressure</th>\n",
       "      <th>vibration</th>\n",
       "      <th>Columna1</th>\n",
       "      <th>GRUPO_Volt</th>\n",
       "    </tr>\n",
       "  </thead>\n",
       "  <tbody>\n",
       "    <tr>\n",
       "      <th>0</th>\n",
       "      <td>8/12/2015 15:00</td>\n",
       "      <td>79</td>\n",
       "      <td>194.071741</td>\n",
       "      <td>484.698993</td>\n",
       "      <td>101.085953</td>\n",
       "      <td>47.317101</td>\n",
       "      <td>NaN</td>\n",
       "      <td>GRUPO2</td>\n",
       "    </tr>\n",
       "    <tr>\n",
       "      <th>1</th>\n",
       "      <td>11/12/2015 06:00</td>\n",
       "      <td>15</td>\n",
       "      <td>153.546984</td>\n",
       "      <td>454.170621</td>\n",
       "      <td>113.613686</td>\n",
       "      <td>38.416344</td>\n",
       "      <td>NaN</td>\n",
       "      <td>GRUPO1</td>\n",
       "    </tr>\n",
       "    <tr>\n",
       "      <th>2</th>\n",
       "      <td>28/6/2015 20:00</td>\n",
       "      <td>62</td>\n",
       "      <td>122.492361</td>\n",
       "      <td>386.409669</td>\n",
       "      <td>102.970808</td>\n",
       "      <td>41.206891</td>\n",
       "      <td>NaN</td>\n",
       "      <td>GRUPO1</td>\n",
       "    </tr>\n",
       "    <tr>\n",
       "      <th>3</th>\n",
       "      <td>24/7/2015 04:00</td>\n",
       "      <td>51</td>\n",
       "      <td>183.098835</td>\n",
       "      <td>448.021654</td>\n",
       "      <td>108.709299</td>\n",
       "      <td>41.493329</td>\n",
       "      <td>NaN</td>\n",
       "      <td>GRUPO2</td>\n",
       "    </tr>\n",
       "    <tr>\n",
       "      <th>4</th>\n",
       "      <td>28/1/2015 15:00</td>\n",
       "      <td>60</td>\n",
       "      <td>167.079133</td>\n",
       "      <td>404.744703</td>\n",
       "      <td>104.446543</td>\n",
       "      <td>35.706153</td>\n",
       "      <td>NaN</td>\n",
       "      <td>GRUPO2</td>\n",
       "    </tr>\n",
       "  </tbody>\n",
       "</table>\n",
       "</div>"
      ],
      "text/plain": [
       "           datetime  machineID        volt      rotate    pressure  vibration  \\\n",
       "0   8/12/2015 15:00         79  194.071741  484.698993  101.085953  47.317101   \n",
       "1  11/12/2015 06:00         15  153.546984  454.170621  113.613686  38.416344   \n",
       "2   28/6/2015 20:00         62  122.492361  386.409669  102.970808  41.206891   \n",
       "3   24/7/2015 04:00         51  183.098835  448.021654  108.709299  41.493329   \n",
       "4   28/1/2015 15:00         60  167.079133  404.744703  104.446543  35.706153   \n",
       "\n",
       "   Columna1 GRUPO_Volt  \n",
       "0       NaN     GRUPO2  \n",
       "1       NaN     GRUPO1  \n",
       "2       NaN     GRUPO1  \n",
       "3       NaN     GRUPO2  \n",
       "4       NaN     GRUPO2  "
      ]
     },
     "execution_count": 26,
     "metadata": {},
     "output_type": "execute_result"
    }
   ],
   "source": [
    "### Crea 5 grupos de igual amplitud sobre los valores de la variable volt del dataset telemetry_sin_duplicados\n",
    "### Almacena el resultado en la variable GRUPO_Volt\n",
    "    \n",
    "# Creamos una copia del dataframe original\n",
    "telemetry_sin_duplicados = telemetry_sin_duplicados.copy()\n",
    "\n",
    "telemetry_sin_duplicados.loc[:, 'GRUPO_Volt'] = pd.cut(\n",
    "    telemetry_sin_duplicados['volt'],\n",
    "    bins=5,  # número de categorías deseadas\n",
    "    labels=['GRUPO1', 'GRUPO2', 'GRUPO3', 'GRUPO4', 'GRUPO5'],\n",
    "    include_lowest=True\n",
    ")\n",
    "\n",
    "telemetry_sin_duplicados.head()"
   ]
  },
  {
   "cell_type": "code",
   "execution_count": 29,
   "metadata": {},
   "outputs": [
    {
     "data": {
      "text/html": [
       "<div>\n",
       "<style scoped>\n",
       "    .dataframe tbody tr th:only-of-type {\n",
       "        vertical-align: middle;\n",
       "    }\n",
       "\n",
       "    .dataframe tbody tr th {\n",
       "        vertical-align: top;\n",
       "    }\n",
       "\n",
       "    .dataframe thead th {\n",
       "        text-align: right;\n",
       "    }\n",
       "</style>\n",
       "<table border=\"1\" class=\"dataframe\">\n",
       "  <thead>\n",
       "    <tr style=\"text-align: right;\">\n",
       "      <th></th>\n",
       "      <th>datetime</th>\n",
       "      <th>machineID</th>\n",
       "      <th>volt</th>\n",
       "      <th>rotate</th>\n",
       "      <th>pressure</th>\n",
       "      <th>vibration</th>\n",
       "      <th>Columna1</th>\n",
       "      <th>GRUPO_Volt</th>\n",
       "    </tr>\n",
       "  </thead>\n",
       "  <tbody>\n",
       "    <tr>\n",
       "      <th>93107</th>\n",
       "      <td>21/9/2015 14:00</td>\n",
       "      <td>39</td>\n",
       "      <td>382.687076</td>\n",
       "      <td>481.239810</td>\n",
       "      <td>NaN</td>\n",
       "      <td>46.432730</td>\n",
       "      <td>NaN</td>\n",
       "      <td>GRUPO5</td>\n",
       "    </tr>\n",
       "    <tr>\n",
       "      <th>717516</th>\n",
       "      <td>15/12/2015 08:00</td>\n",
       "      <td>64</td>\n",
       "      <td>382.687076</td>\n",
       "      <td>371.393288</td>\n",
       "      <td>NaN</td>\n",
       "      <td>37.055618</td>\n",
       "      <td>NaN</td>\n",
       "      <td>GRUPO5</td>\n",
       "    </tr>\n",
       "    <tr>\n",
       "      <th>742953</th>\n",
       "      <td>14/12/2015 20:00</td>\n",
       "      <td>61</td>\n",
       "      <td>382.687076</td>\n",
       "      <td>405.128743</td>\n",
       "      <td>NaN</td>\n",
       "      <td>40.031070</td>\n",
       "      <td>NaN</td>\n",
       "      <td>GRUPO5</td>\n",
       "    </tr>\n",
       "    <tr>\n",
       "      <th>759631</th>\n",
       "      <td>17/1/2015 11:00</td>\n",
       "      <td>13</td>\n",
       "      <td>382.687076</td>\n",
       "      <td>520.070835</td>\n",
       "      <td>NaN</td>\n",
       "      <td>38.855552</td>\n",
       "      <td>NaN</td>\n",
       "      <td>GRUPO5</td>\n",
       "    </tr>\n",
       "    <tr>\n",
       "      <th>780556</th>\n",
       "      <td>8/5/2015 07:00</td>\n",
       "      <td>25</td>\n",
       "      <td>382.687076</td>\n",
       "      <td>384.628061</td>\n",
       "      <td>NaN</td>\n",
       "      <td>52.098697</td>\n",
       "      <td>NaN</td>\n",
       "      <td>GRUPO5</td>\n",
       "    </tr>\n",
       "  </tbody>\n",
       "</table>\n",
       "</div>"
      ],
      "text/plain": [
       "                datetime  machineID        volt      rotate  pressure  \\\n",
       "93107    21/9/2015 14:00         39  382.687076  481.239810       NaN   \n",
       "717516  15/12/2015 08:00         64  382.687076  371.393288       NaN   \n",
       "742953  14/12/2015 20:00         61  382.687076  405.128743       NaN   \n",
       "759631   17/1/2015 11:00         13  382.687076  520.070835       NaN   \n",
       "780556    8/5/2015 07:00         25  382.687076  384.628061       NaN   \n",
       "\n",
       "        vibration  Columna1 GRUPO_Volt  \n",
       "93107   46.432730       NaN     GRUPO5  \n",
       "717516  37.055618       NaN     GRUPO5  \n",
       "742953  40.031070       NaN     GRUPO5  \n",
       "759631  38.855552       NaN     GRUPO5  \n",
       "780556  52.098697       NaN     GRUPO5  "
      ]
     },
     "execution_count": 29,
     "metadata": {},
     "output_type": "execute_result"
    }
   ],
   "source": [
    "# Vamos a validar si el valor extremo queda en el grupo 5\n",
    "\n",
    "# Filtramos el dataframe\n",
    "filtro_G5 = telemetry_sin_duplicados[telemetry_sin_duplicados['GRUPO_Volt'] == 'GRUPO5']\n",
    "\n",
    "# Ordenamos el dataframe de manera descendente\n",
    "data_ordenado = filtro_G5.sort_values(by='volt', ascending=False)\n",
    "data_ordenado.head(7)"
   ]
  },
  {
   "cell_type": "code",
   "execution_count": 33,
   "metadata": {},
   "outputs": [
    {
     "name": "stdout",
     "output_type": "stream",
     "text": [
      "GRUPO_Volt\n",
      "GRUPO2    744544\n",
      "GRUPO1    126347\n",
      "GRUPO3      5204\n",
      "GRUPO5         5\n",
      "GRUPO4         0\n",
      "Name: count, dtype: int64\n"
     ]
    }
   ],
   "source": [
    "# Contamos cuantos registros quedaron en cada Grupo\n",
    "frecuencia_Grupos = telemetry_sin_duplicados['GRUPO_Volt'].value_counts()\n",
    "print(frecuencia_Grupos)"
   ]
  },
  {
   "cell_type": "code",
   "execution_count": 34,
   "metadata": {},
   "outputs": [
    {
     "data": {
      "text/html": [
       "<div>\n",
       "<style scoped>\n",
       "    .dataframe tbody tr th:only-of-type {\n",
       "        vertical-align: middle;\n",
       "    }\n",
       "\n",
       "    .dataframe tbody tr th {\n",
       "        vertical-align: top;\n",
       "    }\n",
       "\n",
       "    .dataframe thead th {\n",
       "        text-align: right;\n",
       "    }\n",
       "</style>\n",
       "<table border=\"1\" class=\"dataframe\">\n",
       "  <thead>\n",
       "    <tr style=\"text-align: right;\">\n",
       "      <th></th>\n",
       "      <th>datetime</th>\n",
       "      <th>machineID</th>\n",
       "      <th>volt</th>\n",
       "      <th>rotate</th>\n",
       "      <th>pressure</th>\n",
       "      <th>vibration</th>\n",
       "      <th>Columna1</th>\n",
       "      <th>GRUPO_Volt</th>\n",
       "      <th>GRUPO_Volt_2</th>\n",
       "    </tr>\n",
       "  </thead>\n",
       "  <tbody>\n",
       "    <tr>\n",
       "      <th>0</th>\n",
       "      <td>8/12/2015 15:00</td>\n",
       "      <td>79</td>\n",
       "      <td>194.071741</td>\n",
       "      <td>484.698993</td>\n",
       "      <td>101.085953</td>\n",
       "      <td>47.317101</td>\n",
       "      <td>NaN</td>\n",
       "      <td>GRUPO2</td>\n",
       "      <td>GRUPO3</td>\n",
       "    </tr>\n",
       "    <tr>\n",
       "      <th>1</th>\n",
       "      <td>11/12/2015 06:00</td>\n",
       "      <td>15</td>\n",
       "      <td>153.546984</td>\n",
       "      <td>454.170621</td>\n",
       "      <td>113.613686</td>\n",
       "      <td>38.416344</td>\n",
       "      <td>NaN</td>\n",
       "      <td>GRUPO1</td>\n",
       "      <td>GRUPO1</td>\n",
       "    </tr>\n",
       "    <tr>\n",
       "      <th>2</th>\n",
       "      <td>28/6/2015 20:00</td>\n",
       "      <td>62</td>\n",
       "      <td>122.492361</td>\n",
       "      <td>386.409669</td>\n",
       "      <td>102.970808</td>\n",
       "      <td>41.206891</td>\n",
       "      <td>NaN</td>\n",
       "      <td>GRUPO1</td>\n",
       "      <td>GRUPO1</td>\n",
       "    </tr>\n",
       "    <tr>\n",
       "      <th>3</th>\n",
       "      <td>24/7/2015 04:00</td>\n",
       "      <td>51</td>\n",
       "      <td>183.098835</td>\n",
       "      <td>448.021654</td>\n",
       "      <td>108.709299</td>\n",
       "      <td>41.493329</td>\n",
       "      <td>NaN</td>\n",
       "      <td>GRUPO2</td>\n",
       "      <td>GRUPO3</td>\n",
       "    </tr>\n",
       "    <tr>\n",
       "      <th>4</th>\n",
       "      <td>28/1/2015 15:00</td>\n",
       "      <td>60</td>\n",
       "      <td>167.079133</td>\n",
       "      <td>404.744703</td>\n",
       "      <td>104.446543</td>\n",
       "      <td>35.706153</td>\n",
       "      <td>NaN</td>\n",
       "      <td>GRUPO2</td>\n",
       "      <td>GRUPO2</td>\n",
       "    </tr>\n",
       "  </tbody>\n",
       "</table>\n",
       "</div>"
      ],
      "text/plain": [
       "           datetime  machineID        volt      rotate    pressure  vibration  \\\n",
       "0   8/12/2015 15:00         79  194.071741  484.698993  101.085953  47.317101   \n",
       "1  11/12/2015 06:00         15  153.546984  454.170621  113.613686  38.416344   \n",
       "2   28/6/2015 20:00         62  122.492361  386.409669  102.970808  41.206891   \n",
       "3   24/7/2015 04:00         51  183.098835  448.021654  108.709299  41.493329   \n",
       "4   28/1/2015 15:00         60  167.079133  404.744703  104.446543  35.706153   \n",
       "\n",
       "   Columna1 GRUPO_Volt GRUPO_Volt_2  \n",
       "0       NaN     GRUPO2       GRUPO3  \n",
       "1       NaN     GRUPO1       GRUPO1  \n",
       "2       NaN     GRUPO1       GRUPO1  \n",
       "3       NaN     GRUPO2       GRUPO3  \n",
       "4       NaN     GRUPO2       GRUPO2  "
      ]
     },
     "execution_count": 34,
     "metadata": {},
     "output_type": "execute_result"
    }
   ],
   "source": [
    "# Sintaxis para crear 5 grupos con cortes pesonalizados\n",
    "\n",
    "def categorizar(x):\n",
    "    if x <= 155:\n",
    "        return 'GRUPO1'\n",
    "    elif x <= 168:\n",
    "        return 'GRUPO2'\n",
    "    elif x <= 195:\n",
    "        return 'GRUPO3'\n",
    "    else:\n",
    "        return 'GRUPO4'\n",
    "\n",
    "telemetry_sin_duplicados.loc[:, 'GRUPO_Volt_2'] = telemetry_sin_duplicados['volt'].apply(categorizar)\n",
    "telemetry_sin_duplicados.head()"
   ]
  },
  {
   "cell_type": "code",
   "execution_count": 35,
   "metadata": {},
   "outputs": [
    {
     "data": {
      "text/html": [
       "<div>\n",
       "<style scoped>\n",
       "    .dataframe tbody tr th:only-of-type {\n",
       "        vertical-align: middle;\n",
       "    }\n",
       "\n",
       "    .dataframe tbody tr th {\n",
       "        vertical-align: top;\n",
       "    }\n",
       "\n",
       "    .dataframe thead th {\n",
       "        text-align: right;\n",
       "    }\n",
       "</style>\n",
       "<table border=\"1\" class=\"dataframe\">\n",
       "  <thead>\n",
       "    <tr style=\"text-align: right;\">\n",
       "      <th>GRUPO_Volt_2</th>\n",
       "      <th>GRUPO1</th>\n",
       "      <th>GRUPO2</th>\n",
       "      <th>GRUPO3</th>\n",
       "      <th>GRUPO4</th>\n",
       "      <th>Total</th>\n",
       "    </tr>\n",
       "    <tr>\n",
       "      <th>GRUPO_Volt</th>\n",
       "      <th></th>\n",
       "      <th></th>\n",
       "      <th></th>\n",
       "      <th></th>\n",
       "      <th></th>\n",
       "    </tr>\n",
       "  </thead>\n",
       "  <tbody>\n",
       "    <tr>\n",
       "      <th>GRUPO1</th>\n",
       "      <td>126347</td>\n",
       "      <td>0</td>\n",
       "      <td>0</td>\n",
       "      <td>0</td>\n",
       "      <td>126347</td>\n",
       "    </tr>\n",
       "    <tr>\n",
       "      <th>GRUPO2</th>\n",
       "      <td>7975</td>\n",
       "      <td>244354</td>\n",
       "      <td>444358</td>\n",
       "      <td>47857</td>\n",
       "      <td>744544</td>\n",
       "    </tr>\n",
       "    <tr>\n",
       "      <th>GRUPO3</th>\n",
       "      <td>0</td>\n",
       "      <td>0</td>\n",
       "      <td>0</td>\n",
       "      <td>5204</td>\n",
       "      <td>5204</td>\n",
       "    </tr>\n",
       "    <tr>\n",
       "      <th>GRUPO5</th>\n",
       "      <td>0</td>\n",
       "      <td>0</td>\n",
       "      <td>0</td>\n",
       "      <td>5</td>\n",
       "      <td>5</td>\n",
       "    </tr>\n",
       "    <tr>\n",
       "      <th>Total</th>\n",
       "      <td>134322</td>\n",
       "      <td>244354</td>\n",
       "      <td>444358</td>\n",
       "      <td>53066</td>\n",
       "      <td>876100</td>\n",
       "    </tr>\n",
       "  </tbody>\n",
       "</table>\n",
       "</div>"
      ],
      "text/plain": [
       "GRUPO_Volt_2  GRUPO1  GRUPO2  GRUPO3  GRUPO4   Total\n",
       "GRUPO_Volt                                          \n",
       "GRUPO1        126347       0       0       0  126347\n",
       "GRUPO2          7975  244354  444358   47857  744544\n",
       "GRUPO3             0       0       0    5204    5204\n",
       "GRUPO5             0       0       0       5       5\n",
       "Total         134322  244354  444358   53066  876100"
      ]
     },
     "execution_count": 35,
     "metadata": {},
     "output_type": "execute_result"
    }
   ],
   "source": [
    "# Contamos cuantos registros quedaron en cada Grupo y comparamos si hubo cambios según la forma de agrupar\n",
    "Tabla = pd.crosstab(\n",
    "    index=telemetry_sin_duplicados['GRUPO_Volt'],\n",
    "    columns=telemetry_sin_duplicados['GRUPO_Volt_2'],\n",
    "    margins=True,                # Agrega totales\n",
    "    margins_name='Total'        # Nombre de la fila/columna de totales\n",
    ")\n",
    "\n",
    "Tabla"
   ]
  },
  {
   "cell_type": "code",
   "execution_count": 36,
   "metadata": {},
   "outputs": [
    {
     "data": {
      "text/html": [
       "<div>\n",
       "<style scoped>\n",
       "    .dataframe tbody tr th:only-of-type {\n",
       "        vertical-align: middle;\n",
       "    }\n",
       "\n",
       "    .dataframe tbody tr th {\n",
       "        vertical-align: top;\n",
       "    }\n",
       "\n",
       "    .dataframe thead th {\n",
       "        text-align: right;\n",
       "    }\n",
       "</style>\n",
       "<table border=\"1\" class=\"dataframe\">\n",
       "  <thead>\n",
       "    <tr style=\"text-align: right;\">\n",
       "      <th>GRUPO_Volt_2</th>\n",
       "      <th>GRUPO1</th>\n",
       "      <th>GRUPO2</th>\n",
       "      <th>GRUPO3</th>\n",
       "      <th>GRUPO4</th>\n",
       "      <th>Total</th>\n",
       "    </tr>\n",
       "    <tr>\n",
       "      <th>GRUPO_Volt</th>\n",
       "      <th></th>\n",
       "      <th></th>\n",
       "      <th></th>\n",
       "      <th></th>\n",
       "      <th></th>\n",
       "    </tr>\n",
       "  </thead>\n",
       "  <tbody>\n",
       "    <tr>\n",
       "      <th>GRUPO1</th>\n",
       "      <td>14.42%</td>\n",
       "      <td>0.00%</td>\n",
       "      <td>0.00%</td>\n",
       "      <td>0.00%</td>\n",
       "      <td>14.42%</td>\n",
       "    </tr>\n",
       "    <tr>\n",
       "      <th>GRUPO2</th>\n",
       "      <td>0.91%</td>\n",
       "      <td>27.89%</td>\n",
       "      <td>50.72%</td>\n",
       "      <td>5.46%</td>\n",
       "      <td>84.98%</td>\n",
       "    </tr>\n",
       "    <tr>\n",
       "      <th>GRUPO3</th>\n",
       "      <td>0.00%</td>\n",
       "      <td>0.00%</td>\n",
       "      <td>0.00%</td>\n",
       "      <td>0.59%</td>\n",
       "      <td>0.59%</td>\n",
       "    </tr>\n",
       "    <tr>\n",
       "      <th>GRUPO5</th>\n",
       "      <td>0.00%</td>\n",
       "      <td>0.00%</td>\n",
       "      <td>0.00%</td>\n",
       "      <td>0.00%</td>\n",
       "      <td>0.00%</td>\n",
       "    </tr>\n",
       "    <tr>\n",
       "      <th>Total</th>\n",
       "      <td>15.33%</td>\n",
       "      <td>27.89%</td>\n",
       "      <td>50.72%</td>\n",
       "      <td>6.06%</td>\n",
       "      <td>100.00%</td>\n",
       "    </tr>\n",
       "  </tbody>\n",
       "</table>\n",
       "</div>"
      ],
      "text/plain": [
       "GRUPO_Volt_2  GRUPO1  GRUPO2  GRUPO3 GRUPO4    Total\n",
       "GRUPO_Volt                                          \n",
       "GRUPO1        14.42%   0.00%   0.00%  0.00%   14.42%\n",
       "GRUPO2         0.91%  27.89%  50.72%  5.46%   84.98%\n",
       "GRUPO3         0.00%   0.00%   0.00%  0.59%    0.59%\n",
       "GRUPO5         0.00%   0.00%   0.00%  0.00%    0.00%\n",
       "Total         15.33%  27.89%  50.72%  6.06%  100.00%"
      ]
     },
     "execution_count": 36,
     "metadata": {},
     "output_type": "execute_result"
    }
   ],
   "source": [
    "# Porcentaje sobre el total general\n",
    "tabla_porcentaje_total = Tabla / Tabla.loc['Total', 'Total']*100\n",
    "tabla_porcentaje_total = tabla_porcentaje_total.map(lambda x: f\"{x:.2f}%\")\n",
    "tabla_porcentaje_total\n"
   ]
  },
  {
   "cell_type": "code",
   "execution_count": 37,
   "metadata": {},
   "outputs": [
    {
     "name": "stdout",
     "output_type": "stream",
     "text": [
      "         volt  volt_grupo\n",
      "0  194.071741        Alto\n",
      "1  153.546984        Bajo\n",
      "2  122.492361        Bajo\n",
      "3  183.098835        Alto\n",
      "4  167.079133  Medio-Bajo\n",
      "5  147.973627        Bajo\n",
      "6  153.472810        Bajo\n",
      "7  186.109859        Alto\n",
      "8  216.477793        Alto\n",
      "9  167.311133  Medio-Bajo\n"
     ]
    }
   ],
   "source": [
    "# segmentar por cuantiles y asignar etiquetas a cada Grupo \n",
    "telemetry_sin_duplicados['volt_grupo'] = pd.qcut(telemetry_sin_duplicados['volt'], q=4, labels=['Bajo', 'Medio-Bajo', 'Medio-Alto', 'Alto'])\n",
    "\n",
    "# Verifica el resultado\n",
    "print(telemetry_sin_duplicados[['volt', 'volt_grupo']].head(10))\n"
   ]
  },
  {
   "cell_type": "code",
   "execution_count": 38,
   "metadata": {},
   "outputs": [
    {
     "name": "stdout",
     "output_type": "stream",
     "text": [
      "volt_grupo\n",
      "Bajo          219025\n",
      "Medio-Bajo    219025\n",
      "Medio-Alto    219025\n",
      "Alto          219025\n",
      "Name: count, dtype: int64\n"
     ]
    }
   ],
   "source": [
    "frecuencia_Grupos = telemetry_sin_duplicados['volt_grupo'].value_counts()\n",
    "print(frecuencia_Grupos)"
   ]
  },
  {
   "cell_type": "code",
   "execution_count": 39,
   "metadata": {},
   "outputs": [
    {
     "name": "stdout",
     "output_type": "stream",
     "text": [
      "         volt          volt_grupo\n",
      "0  194.071741  (190.617, 382.687]\n",
      "1  153.546984  (151.081, 157.729]\n",
      "2  122.492361   (97.333, 151.081]\n",
      "3  183.098835  (178.679, 183.615]\n",
      "4  167.079133   (166.74, 170.607]\n",
      "5  147.973627   (97.333, 151.081]\n",
      "6  153.472810  (151.081, 157.729]\n",
      "7  186.109859  (183.615, 190.617]\n",
      "8  216.477793  (190.617, 382.687]\n",
      "9  167.311133   (166.74, 170.607]\n"
     ]
    }
   ],
   "source": [
    "# segmentar por deciles\n",
    "telemetry_sin_duplicados['volt_grupo'] = pd.qcut(telemetry_sin_duplicados['volt'], q=10)\n",
    "\n",
    "# Verifica el resultado\n",
    "print(telemetry_sin_duplicados[['volt', 'volt_grupo']].head(10))"
   ]
  },
  {
   "cell_type": "markdown",
   "metadata": {},
   "source": [
    "### Creacion de un nuevo dataset - Extracción"
   ]
  },
  {
   "cell_type": "code",
   "execution_count": 47,
   "metadata": {},
   "outputs": [
    {
     "data": {
      "image/png": "[encoded data removed]",
      "text/plain": [
       "<Figure size 640x480 with 1 Axes>"
      ]
     },
     "metadata": {},
     "output_type": "display_data"
    }
   ],
   "source": [
    "plt.boxplot(x=telemetry_sin_duplicados['volt']);"
   ]
  },
  {
   "cell_type": "code",
   "execution_count": 54,
   "metadata": {},
   "outputs": [
    {
     "name": "stdout",
     "output_type": "stream",
     "text": [
      "20.699494724999994\n"
     ]
    }
   ],
   "source": [
    "seventy_fifth = telemetry_sin_duplicados['volt'].quantile(0.75)\n",
    "twenty_fifth = telemetry_sin_duplicados['volt'].quantile(0.25)\n",
    "volt_iqr = seventy_fifth - twenty_fifth\n",
    "print(volt_iqr)"
   ]
  },
  {
   "cell_type": "code",
   "execution_count": 68,
   "metadata": {},
   "outputs": [
    {
     "name": "stdout",
     "output_type": "stream",
     "text": [
      "212.0536642125 129.25568531250002\n"
     ]
    }
   ],
   "source": [
    "upper = seventy_fifth + (1.5 * volt_iqr)\n",
    "lower = twenty_fifth - (1.5 * volt_iqr)\n",
    "print(upper, lower)"
   ]
  },
  {
   "cell_type": "code",
   "execution_count": 50,
   "metadata": {},
   "outputs": [
    {
     "data": {
      "text/plain": [
       "(28176, 10)"
      ]
     },
     "execution_count": 50,
     "metadata": {},
     "output_type": "execute_result"
    }
   ],
   "source": [
    "# Filtramos el dataframe\n",
    "atipicos = telemetry_sin_duplicados[telemetry_sin_duplicados['volt'] > 200]\n",
    "atipicos.shape\n"
   ]
  },
  {
   "cell_type": "markdown",
   "metadata": {},
   "source": [
    "### Reemplazar valores extremos en el dataframe (Imputación)\n"
   ]
  },
  {
   "cell_type": "code",
   "execution_count": 41,
   "metadata": {},
   "outputs": [
    {
     "data": {
      "text/plain": [
       "count    876100.000000\n",
       "mean        170.778872\n",
       "std          15.517321\n",
       "min          97.333604\n",
       "25%         160.304927\n",
       "50%         170.607338\n",
       "75%         181.004501\n",
       "max         382.687076\n",
       "Name: volt, dtype: float64"
      ]
     },
     "execution_count": 41,
     "metadata": {},
     "output_type": "execute_result"
    }
   ],
   "source": [
    "# Calculamos las estadisticas descriptivas de Volt\n",
    "telemetry_sin_duplicados['volt'].describe()"
   ]
  },
  {
   "cell_type": "code",
   "execution_count": 51,
   "metadata": {},
   "outputs": [
    {
     "data": {
      "text/plain": [
       "count    876100.000000\n",
       "mean        170.777663\n",
       "std          15.509061\n",
       "min          97.333604\n",
       "25%         160.304927\n",
       "50%         170.607338\n",
       "75%         181.004422\n",
       "max         255.124717\n",
       "Name: volt, dtype: float64"
      ]
     },
     "execution_count": 51,
     "metadata": {},
     "output_type": "execute_result"
    }
   ],
   "source": [
    "# Reemplazamos en el dataframe sin duplicados, el valor atípico 382.687076, por 170.7788\n",
    "telemetry_sin_duplicados.loc[telemetry_sin_duplicados['volt'] > 300, 'volt'] = 170.7788\n",
    "telemetry_sin_duplicados['volt'].describe()"
   ]
  },
  {
   "cell_type": "markdown",
   "metadata": {},
   "source": [
    "### El último recursos...   eliminación"
   ]
  },
  {
   "cell_type": "code",
   "execution_count": 53,
   "metadata": {},
   "outputs": [
    {
     "data": {
      "text/plain": [
       "(876100, 10)"
      ]
     },
     "execution_count": 53,
     "metadata": {},
     "output_type": "execute_result"
    }
   ],
   "source": [
    "telemetry_sin_atipicos = telemetry_sin_duplicados[telemetry_sin_duplicados['volt'] != 382.687076]\n",
    "telemetry_sin_atipicos.shape"
   ]
  },
  {
   "cell_type": "markdown",
   "metadata": {},
   "source": [
    "## Alternativas para resolver el caso de valores faltantes\n",
    "### Métodos de imputación"
   ]
  },
  {
   "cell_type": "code",
   "execution_count": 55,
   "metadata": {},
   "outputs": [
    {
     "data": {
      "text/html": [
       "<div>\n",
       "<style scoped>\n",
       "    .dataframe tbody tr th:only-of-type {\n",
       "        vertical-align: middle;\n",
       "    }\n",
       "\n",
       "    .dataframe tbody tr th {\n",
       "        vertical-align: top;\n",
       "    }\n",
       "\n",
       "    .dataframe thead th {\n",
       "        text-align: right;\n",
       "    }\n",
       "</style>\n",
       "<table border=\"1\" class=\"dataframe\">\n",
       "  <thead>\n",
       "    <tr style=\"text-align: right;\">\n",
       "      <th></th>\n",
       "      <th>datetime</th>\n",
       "      <th>machineID</th>\n",
       "      <th>volt</th>\n",
       "      <th>rotate</th>\n",
       "      <th>pressure</th>\n",
       "      <th>vibration</th>\n",
       "      <th>Columna1</th>\n",
       "      <th>GRUPO_Volt</th>\n",
       "      <th>GRUPO_Volt_2</th>\n",
       "      <th>volt_grupo</th>\n",
       "    </tr>\n",
       "  </thead>\n",
       "  <tbody>\n",
       "    <tr>\n",
       "      <th>5153</th>\n",
       "      <td>21/8/2015 20:00</td>\n",
       "      <td>74</td>\n",
       "      <td>170.918892</td>\n",
       "      <td>430.724320</td>\n",
       "      <td>NaN</td>\n",
       "      <td>40.253415</td>\n",
       "      <td>NaN</td>\n",
       "      <td>GRUPO2</td>\n",
       "      <td>GRUPO3</td>\n",
       "      <td>(170.607, 174.508]</td>\n",
       "    </tr>\n",
       "    <tr>\n",
       "      <th>30176</th>\n",
       "      <td>23/4/2015 02:00</td>\n",
       "      <td>1</td>\n",
       "      <td>204.789754</td>\n",
       "      <td>369.026200</td>\n",
       "      <td>NaN</td>\n",
       "      <td>39.667222</td>\n",
       "      <td>NaN</td>\n",
       "      <td>GRUPO2</td>\n",
       "      <td>GRUPO4</td>\n",
       "      <td>(190.617, 382.687]</td>\n",
       "    </tr>\n",
       "    <tr>\n",
       "      <th>34217</th>\n",
       "      <td>5/7/2015 18:00</td>\n",
       "      <td>99</td>\n",
       "      <td>174.221316</td>\n",
       "      <td>427.978309</td>\n",
       "      <td>NaN</td>\n",
       "      <td>35.623057</td>\n",
       "      <td>NaN</td>\n",
       "      <td>GRUPO2</td>\n",
       "      <td>GRUPO3</td>\n",
       "      <td>(170.607, 174.508]</td>\n",
       "    </tr>\n",
       "    <tr>\n",
       "      <th>39579</th>\n",
       "      <td>5/6/2015 19:00</td>\n",
       "      <td>83</td>\n",
       "      <td>171.998008</td>\n",
       "      <td>355.537555</td>\n",
       "      <td>NaN</td>\n",
       "      <td>30.515283</td>\n",
       "      <td>NaN</td>\n",
       "      <td>GRUPO2</td>\n",
       "      <td>GRUPO3</td>\n",
       "      <td>(170.607, 174.508]</td>\n",
       "    </tr>\n",
       "    <tr>\n",
       "      <th>62420</th>\n",
       "      <td>18/11/2015 13:00</td>\n",
       "      <td>55</td>\n",
       "      <td>167.379093</td>\n",
       "      <td>408.034747</td>\n",
       "      <td>NaN</td>\n",
       "      <td>39.499060</td>\n",
       "      <td>NaN</td>\n",
       "      <td>GRUPO2</td>\n",
       "      <td>GRUPO2</td>\n",
       "      <td>(166.74, 170.607]</td>\n",
       "    </tr>\n",
       "  </tbody>\n",
       "</table>\n",
       "</div>"
      ],
      "text/plain": [
       "               datetime  machineID        volt      rotate  pressure  \\\n",
       "5153    21/8/2015 20:00         74  170.918892  430.724320       NaN   \n",
       "30176   23/4/2015 02:00          1  204.789754  369.026200       NaN   \n",
       "34217    5/7/2015 18:00         99  174.221316  427.978309       NaN   \n",
       "39579    5/6/2015 19:00         83  171.998008  355.537555       NaN   \n",
       "62420  18/11/2015 13:00         55  167.379093  408.034747       NaN   \n",
       "\n",
       "       vibration  Columna1 GRUPO_Volt GRUPO_Volt_2          volt_grupo  \n",
       "5153   40.253415       NaN     GRUPO2       GRUPO3  (170.607, 174.508]  \n",
       "30176  39.667222       NaN     GRUPO2       GRUPO4  (190.617, 382.687]  \n",
       "34217  35.623057       NaN     GRUPO2       GRUPO3  (170.607, 174.508]  \n",
       "39579  30.515283       NaN     GRUPO2       GRUPO3  (170.607, 174.508]  \n",
       "62420  39.499060       NaN     GRUPO2       GRUPO2   (166.74, 170.607]  "
      ]
     },
     "execution_count": 55,
     "metadata": {},
     "output_type": "execute_result"
    }
   ],
   "source": [
    "# Analizamos aquellos registros donde faltan datos\n",
    "## Filtrar registros donde pressure es nulo \n",
    "filtro_PressureNA = telemetry_sin_duplicados[telemetry_sin_duplicados['pressure'].isna()]\n",
    "filtro_PressureNA.head(5)"
   ]
  },
  {
   "cell_type": "code",
   "execution_count": 56,
   "metadata": {},
   "outputs": [
    {
     "data": {
      "text/plain": [
       "datetime             0\n",
       "machineID            0\n",
       "volt                 0\n",
       "rotate               0\n",
       "pressure           100\n",
       "vibration            0\n",
       "Columna1        876100\n",
       "GRUPO_Volt           0\n",
       "GRUPO_Volt_2         0\n",
       "volt_grupo           0\n",
       "dtype: int64"
      ]
     },
     "execution_count": 56,
     "metadata": {},
     "output_type": "execute_result"
    }
   ],
   "source": [
    "telemetry_sin_duplicados.isna().sum()"
   ]
  },
  {
   "cell_type": "code",
   "execution_count": 57,
   "metadata": {},
   "outputs": [
    {
     "data": {
      "text/plain": [
       "count    876000.000000\n",
       "mean        100.858828\n",
       "std          11.048863\n",
       "min          51.237106\n",
       "25%          93.498085\n",
       "50%         100.425947\n",
       "75%         107.555402\n",
       "max         185.951998\n",
       "Name: pressure, dtype: float64"
      ]
     },
     "execution_count": 57,
     "metadata": {},
     "output_type": "execute_result"
    }
   ],
   "source": [
    "telemetry_sin_duplicados['pressure'].describe()"
   ]
  },
  {
   "cell_type": "code",
   "execution_count": 58,
   "metadata": {},
   "outputs": [
    {
     "data": {
      "text/plain": [
       "datetime             0\n",
       "machineID            0\n",
       "volt                 0\n",
       "rotate               0\n",
       "pressure             0\n",
       "vibration            0\n",
       "Columna1        876100\n",
       "GRUPO_Volt           0\n",
       "GRUPO_Volt_2         0\n",
       "volt_grupo           0\n",
       "dtype: int64"
      ]
     },
     "execution_count": 58,
     "metadata": {},
     "output_type": "execute_result"
    }
   ],
   "source": [
    "df=telemetry_sin_duplicados.copy()\n",
    "df['pressure'] = df['pressure'].fillna(df['pressure'].mean())           # imputación con media\n",
    "df.isna().sum()"
   ]
  },
  {
   "cell_type": "code",
   "execution_count": 59,
   "metadata": {},
   "outputs": [
    {
     "data": {
      "text/plain": [
       "datetime             0\n",
       "machineID            0\n",
       "volt                 0\n",
       "rotate               0\n",
       "pressure             0\n",
       "vibration            0\n",
       "Columna1        876100\n",
       "GRUPO_Volt           0\n",
       "GRUPO_Volt_2         0\n",
       "volt_grupo           0\n",
       "dtype: int64"
      ]
     },
     "execution_count": 59,
     "metadata": {},
     "output_type": "execute_result"
    }
   ],
   "source": [
    "df=telemetry_sin_duplicados.copy()\n",
    "df['pressure'] = df['pressure'].fillna(df['pressure'].median())         # imputación con mediana\n",
    "df.isna().sum()"
   ]
  },
  {
   "cell_type": "code",
   "execution_count": 60,
   "metadata": {},
   "outputs": [
    {
     "data": {
      "text/plain": [
       "datetime             0\n",
       "machineID            0\n",
       "volt                 0\n",
       "rotate               0\n",
       "pressure             0\n",
       "vibration            0\n",
       "Columna1        876100\n",
       "GRUPO_Volt           0\n",
       "GRUPO_Volt_2         0\n",
       "volt_grupo           0\n",
       "dtype: int64"
      ]
     },
     "execution_count": 60,
     "metadata": {},
     "output_type": "execute_result"
    }
   ],
   "source": [
    "df=telemetry_sin_duplicados.copy()\n",
    "df['pressure'] = df['pressure'].ffill()            # imputación forward / backward \n",
    "df.isna().sum()\n",
    "# El método por method='ffill' usa el último valor conocido\n",
    "# El método por method='bfill' usa el siguiente valor conocido"
   ]
  },
  {
   "cell_type": "code",
   "execution_count": 61,
   "metadata": {},
   "outputs": [
    {
     "data": {
      "text/plain": [
       "datetime             0\n",
       "machineID            0\n",
       "volt                 0\n",
       "rotate               0\n",
       "pressure             0\n",
       "vibration            0\n",
       "Columna1        876100\n",
       "GRUPO_Volt           0\n",
       "GRUPO_Volt_2         0\n",
       "volt_grupo           0\n",
       "dtype: int64"
      ]
     },
     "execution_count": 61,
     "metadata": {},
     "output_type": "execute_result"
    }
   ],
   "source": [
    "df=telemetry_sin_duplicados.copy()\n",
    "df['pressure'] = df['pressure'].interpolate(method='linear')       # imputación por interpolación lineal\n",
    "df.isna().sum()"
   ]
  },
  {
   "cell_type": "markdown",
   "metadata": {},
   "source": [
    "## Identificando patrones entre las variables "
   ]
  },
  {
   "cell_type": "code",
   "execution_count": 62,
   "metadata": {},
   "outputs": [
    {
     "data": {
      "text/html": [
       "<div>\n",
       "<style scoped>\n",
       "    .dataframe tbody tr th:only-of-type {\n",
       "        vertical-align: middle;\n",
       "    }\n",
       "\n",
       "    .dataframe tbody tr th {\n",
       "        vertical-align: top;\n",
       "    }\n",
       "\n",
       "    .dataframe thead th {\n",
       "        text-align: right;\n",
       "    }\n",
       "</style>\n",
       "<table border=\"1\" class=\"dataframe\">\n",
       "  <thead>\n",
       "    <tr style=\"text-align: right;\">\n",
       "      <th></th>\n",
       "      <th>datetime</th>\n",
       "      <th>machineID</th>\n",
       "      <th>volt</th>\n",
       "      <th>rotate</th>\n",
       "      <th>pressure</th>\n",
       "      <th>vibration</th>\n",
       "      <th>Columna1</th>\n",
       "      <th>GRUPO_Volt</th>\n",
       "      <th>GRUPO_Volt_2</th>\n",
       "      <th>volt_grupo</th>\n",
       "      <th>model</th>\n",
       "      <th>age</th>\n",
       "    </tr>\n",
       "  </thead>\n",
       "  <tbody>\n",
       "    <tr>\n",
       "      <th>0</th>\n",
       "      <td>8/12/2015 15:00</td>\n",
       "      <td>79</td>\n",
       "      <td>194.071741</td>\n",
       "      <td>484.698993</td>\n",
       "      <td>101.085953</td>\n",
       "      <td>47.317101</td>\n",
       "      <td>NaN</td>\n",
       "      <td>GRUPO2</td>\n",
       "      <td>GRUPO3</td>\n",
       "      <td>(190.617, 382.687]</td>\n",
       "      <td>model3</td>\n",
       "      <td>14</td>\n",
       "    </tr>\n",
       "    <tr>\n",
       "      <th>1</th>\n",
       "      <td>11/12/2015 06:00</td>\n",
       "      <td>15</td>\n",
       "      <td>153.546984</td>\n",
       "      <td>454.170621</td>\n",
       "      <td>113.613686</td>\n",
       "      <td>38.416344</td>\n",
       "      <td>NaN</td>\n",
       "      <td>GRUPO1</td>\n",
       "      <td>GRUPO1</td>\n",
       "      <td>(151.081, 157.729]</td>\n",
       "      <td>model3</td>\n",
       "      <td>14</td>\n",
       "    </tr>\n",
       "    <tr>\n",
       "      <th>2</th>\n",
       "      <td>28/6/2015 20:00</td>\n",
       "      <td>62</td>\n",
       "      <td>122.492361</td>\n",
       "      <td>386.409669</td>\n",
       "      <td>102.970808</td>\n",
       "      <td>41.206891</td>\n",
       "      <td>NaN</td>\n",
       "      <td>GRUPO1</td>\n",
       "      <td>GRUPO1</td>\n",
       "      <td>(97.333, 151.081]</td>\n",
       "      <td>model4</td>\n",
       "      <td>20</td>\n",
       "    </tr>\n",
       "    <tr>\n",
       "      <th>3</th>\n",
       "      <td>24/7/2015 04:00</td>\n",
       "      <td>51</td>\n",
       "      <td>183.098835</td>\n",
       "      <td>448.021654</td>\n",
       "      <td>108.709299</td>\n",
       "      <td>41.493329</td>\n",
       "      <td>NaN</td>\n",
       "      <td>GRUPO2</td>\n",
       "      <td>GRUPO3</td>\n",
       "      <td>(178.679, 183.615]</td>\n",
       "      <td>model4</td>\n",
       "      <td>19</td>\n",
       "    </tr>\n",
       "    <tr>\n",
       "      <th>4</th>\n",
       "      <td>28/1/2015 15:00</td>\n",
       "      <td>60</td>\n",
       "      <td>167.079133</td>\n",
       "      <td>404.744703</td>\n",
       "      <td>104.446543</td>\n",
       "      <td>35.706153</td>\n",
       "      <td>NaN</td>\n",
       "      <td>GRUPO2</td>\n",
       "      <td>GRUPO2</td>\n",
       "      <td>(166.74, 170.607]</td>\n",
       "      <td>model4</td>\n",
       "      <td>3</td>\n",
       "    </tr>\n",
       "  </tbody>\n",
       "</table>\n",
       "</div>"
      ],
      "text/plain": [
       "           datetime  machineID        volt      rotate    pressure  vibration  \\\n",
       "0   8/12/2015 15:00         79  194.071741  484.698993  101.085953  47.317101   \n",
       "1  11/12/2015 06:00         15  153.546984  454.170621  113.613686  38.416344   \n",
       "2   28/6/2015 20:00         62  122.492361  386.409669  102.970808  41.206891   \n",
       "3   24/7/2015 04:00         51  183.098835  448.021654  108.709299  41.493329   \n",
       "4   28/1/2015 15:00         60  167.079133  404.744703  104.446543  35.706153   \n",
       "\n",
       "   Columna1 GRUPO_Volt GRUPO_Volt_2          volt_grupo   model  age  \n",
       "0       NaN     GRUPO2       GRUPO3  (190.617, 382.687]  model3   14  \n",
       "1       NaN     GRUPO1       GRUPO1  (151.081, 157.729]  model3   14  \n",
       "2       NaN     GRUPO1       GRUPO1   (97.333, 151.081]  model4   20  \n",
       "3       NaN     GRUPO2       GRUPO3  (178.679, 183.615]  model4   19  \n",
       "4       NaN     GRUPO2       GRUPO2   (166.74, 170.607]  model4    3  "
      ]
     },
     "execution_count": 62,
     "metadata": {},
     "output_type": "execute_result"
    }
   ],
   "source": [
    "#Analicemos los promedio de pressure por tipo de modelo de máquina, pero antes hay que integrar los datos de telemetría depurados y los datos de máquina\n",
    "data_integrada = pd.merge(telemetry_sin_duplicados, df_PdM_machines, on='machineID', how='left')  \n",
    "data_integrada.head()"
   ]
  },
  {
   "cell_type": "code",
   "execution_count": 63,
   "metadata": {},
   "outputs": [
    {
     "data": {
      "text/html": [
       "<div>\n",
       "<style scoped>\n",
       "    .dataframe tbody tr th:only-of-type {\n",
       "        vertical-align: middle;\n",
       "    }\n",
       "\n",
       "    .dataframe tbody tr th {\n",
       "        vertical-align: top;\n",
       "    }\n",
       "\n",
       "    .dataframe thead tr th {\n",
       "        text-align: left;\n",
       "    }\n",
       "</style>\n",
       "<table border=\"1\" class=\"dataframe\">\n",
       "  <thead>\n",
       "    <tr>\n",
       "      <th></th>\n",
       "      <th colspan=\"4\" halign=\"left\">median</th>\n",
       "      <th colspan=\"4\" halign=\"left\">mean</th>\n",
       "      <th colspan=\"4\" halign=\"left\">std</th>\n",
       "    </tr>\n",
       "    <tr>\n",
       "      <th>model</th>\n",
       "      <th>model1</th>\n",
       "      <th>model2</th>\n",
       "      <th>model3</th>\n",
       "      <th>model4</th>\n",
       "      <th>model1</th>\n",
       "      <th>model2</th>\n",
       "      <th>model3</th>\n",
       "      <th>model4</th>\n",
       "      <th>model1</th>\n",
       "      <th>model2</th>\n",
       "      <th>model3</th>\n",
       "      <th>model4</th>\n",
       "    </tr>\n",
       "  </thead>\n",
       "  <tbody>\n",
       "    <tr>\n",
       "      <th>pressure</th>\n",
       "      <td>100.67</td>\n",
       "      <td>100.64</td>\n",
       "      <td>100.32</td>\n",
       "      <td>100.32</td>\n",
       "      <td>101.27</td>\n",
       "      <td>101.22</td>\n",
       "      <td>100.67</td>\n",
       "      <td>100.67</td>\n",
       "      <td>11.47</td>\n",
       "      <td>11.38</td>\n",
       "      <td>10.85</td>\n",
       "      <td>10.86</td>\n",
       "    </tr>\n",
       "  </tbody>\n",
       "</table>\n",
       "</div>"
      ],
      "text/plain": [
       "          median                            mean                          \\\n",
       "model     model1  model2  model3  model4  model1  model2  model3  model4   \n",
       "pressure  100.67  100.64  100.32  100.32  101.27  101.22  100.67  100.67   \n",
       "\n",
       "            std                       \n",
       "model    model1 model2 model3 model4  \n",
       "pressure  11.47  11.38  10.85  10.86  "
      ]
     },
     "execution_count": 63,
     "metadata": {},
     "output_type": "execute_result"
    }
   ],
   "source": [
    "#Analicemos los promedio de pressure por tipo de modelo de máquina\n",
    "data_integrada.pivot_table(values='pressure',columns='model',aggfunc=['median', 'mean', 'std']).round(2)"
   ]
  },
  {
   "cell_type": "code",
   "execution_count": 64,
   "metadata": {},
   "outputs": [],
   "source": [
    "# Se crea un arreglo con los valores que vamos a imputar\n",
    "valores_por_categoria = {\n",
    "    'model1': 101.27,\n",
    "    'model2': 101.22,\n",
    "    'model3': 100.67,\n",
    "    'model4': 100.67\n",
    "}\n",
    "\n",
    "data_integrada['pressure'] = data_integrada['pressure'].fillna(data_integrada['model'].map(valores_por_categoria))"
   ]
  },
  {
   "cell_type": "code",
   "execution_count": 65,
   "metadata": {},
   "outputs": [
    {
     "data": {
      "text/plain": [
       "datetime             0\n",
       "machineID            0\n",
       "volt                 0\n",
       "rotate               0\n",
       "pressure             0\n",
       "vibration            0\n",
       "Columna1        876100\n",
       "GRUPO_Volt           0\n",
       "GRUPO_Volt_2         0\n",
       "volt_grupo           0\n",
       "model                0\n",
       "age                  0\n",
       "dtype: int64"
      ]
     },
     "execution_count": 65,
     "metadata": {},
     "output_type": "execute_result"
    }
   ],
   "source": [
    "#Validamos si quedaron valores faltantes\n",
    "data_integrada.isna().sum()"
   ]
  },
  {
   "cell_type": "code",
   "execution_count": 66,
   "metadata": {},
   "outputs": [
    {
     "data": {
      "text/html": [
       "<div>\n",
       "<style scoped>\n",
       "    .dataframe tbody tr th:only-of-type {\n",
       "        vertical-align: middle;\n",
       "    }\n",
       "\n",
       "    .dataframe tbody tr th {\n",
       "        vertical-align: top;\n",
       "    }\n",
       "\n",
       "    .dataframe thead th {\n",
       "        text-align: right;\n",
       "    }\n",
       "</style>\n",
       "<table border=\"1\" class=\"dataframe\">\n",
       "  <thead>\n",
       "    <tr style=\"text-align: right;\">\n",
       "      <th></th>\n",
       "      <th>model</th>\n",
       "      <th>pressure</th>\n",
       "    </tr>\n",
       "  </thead>\n",
       "  <tbody>\n",
       "    <tr>\n",
       "      <th>0</th>\n",
       "      <td>model1</td>\n",
       "      <td>101.269020</td>\n",
       "    </tr>\n",
       "    <tr>\n",
       "      <th>1</th>\n",
       "      <td>model2</td>\n",
       "      <td>101.216593</td>\n",
       "    </tr>\n",
       "    <tr>\n",
       "      <th>2</th>\n",
       "      <td>model3</td>\n",
       "      <td>100.667934</td>\n",
       "    </tr>\n",
       "    <tr>\n",
       "      <th>3</th>\n",
       "      <td>model4</td>\n",
       "      <td>100.672473</td>\n",
       "    </tr>\n",
       "  </tbody>\n",
       "</table>\n",
       "</div>"
      ],
      "text/plain": [
       "    model    pressure\n",
       "0  model1  101.269020\n",
       "1  model2  101.216593\n",
       "2  model3  100.667934\n",
       "3  model4  100.672473"
      ]
     },
     "execution_count": 66,
     "metadata": {},
     "output_type": "execute_result"
    }
   ],
   "source": [
    "#### Agrupar registros bajo las categorías de v2,  sumando los valores de v1 \n",
    "data_integrada = data_integrada.groupby('model', as_index=False)['pressure'].mean()\n",
    "data_integrada\n",
    "\n",
    "# Otras métricas que podemos usar:\n",
    "# sum() - suma\n",
    "# mean() - Promedio\n",
    "# count() - Conteo de registro\n",
    "# min() - Valor(es) mínimo\n",
    "# max() - Valor(es) máximo\n",
    "# std() - Desviación estándar\n",
    "# var() - Varianza\n",
    "# nunique()\t- Conteo de valores únicos\n"
   ]
  },
  {
   "cell_type": "code",
   "execution_count": 67,
   "metadata": {},
   "outputs": [
    {
     "ename": "KeyError",
     "evalue": "\"['Columna1'] not found in axis\"",
     "output_type": "error",
     "traceback": [
      "\u001b[31m---------------------------------------------------------------------------\u001b[39m",
      "\u001b[31mKeyError\u001b[39m                                  Traceback (most recent call last)",
      "\u001b[36mCell\u001b[39m\u001b[36m \u001b[39m\u001b[32mIn[67]\u001b[39m\u001b[32m, line 2\u001b[39m\n\u001b[32m      1\u001b[39m \u001b[38;5;66;03m# Eliminamos la variable Columna1 que tiene todos los datos faltantes\u001b[39;00m\n\u001b[32m----> \u001b[39m\u001b[32m2\u001b[39m \u001b[43mdata_integrada\u001b[49m\u001b[43m.\u001b[49m\u001b[43mdrop\u001b[49m\u001b[43m(\u001b[49m\u001b[43mcolumns\u001b[49m\u001b[43m=\u001b[49m\u001b[43m[\u001b[49m\u001b[33;43m'\u001b[39;49m\u001b[33;43mColumna1\u001b[39;49m\u001b[33;43m'\u001b[39;49m\u001b[43m]\u001b[49m\u001b[43m,\u001b[49m\u001b[43m \u001b[49m\u001b[43minplace\u001b[49m\u001b[43m=\u001b[49m\u001b[38;5;28;43;01mTrue\u001b[39;49;00m\u001b[43m)\u001b[49m\n\u001b[32m      3\u001b[39m data_integrada.dtypes\n",
      "\u001b[36mFile \u001b[39m\u001b[32m~/Documents/curso_data_analytics_andes/entorno_analitica_datos/lib/python3.13/site-packages/pandas/core/frame.py:5588\u001b[39m, in \u001b[36mDataFrame.drop\u001b[39m\u001b[34m(self, labels, axis, index, columns, level, inplace, errors)\u001b[39m\n\u001b[32m   5440\u001b[39m \u001b[38;5;28;01mdef\u001b[39;00m\u001b[38;5;250m \u001b[39m\u001b[34mdrop\u001b[39m(\n\u001b[32m   5441\u001b[39m     \u001b[38;5;28mself\u001b[39m,\n\u001b[32m   5442\u001b[39m     labels: IndexLabel | \u001b[38;5;28;01mNone\u001b[39;00m = \u001b[38;5;28;01mNone\u001b[39;00m,\n\u001b[32m   (...)\u001b[39m\u001b[32m   5449\u001b[39m     errors: IgnoreRaise = \u001b[33m\"\u001b[39m\u001b[33mraise\u001b[39m\u001b[33m\"\u001b[39m,\n\u001b[32m   5450\u001b[39m ) -> DataFrame | \u001b[38;5;28;01mNone\u001b[39;00m:\n\u001b[32m   5451\u001b[39m \u001b[38;5;250m    \u001b[39m\u001b[33;03m\"\"\"\u001b[39;00m\n\u001b[32m   5452\u001b[39m \u001b[33;03m    Drop specified labels from rows or columns.\u001b[39;00m\n\u001b[32m   5453\u001b[39m \n\u001b[32m   (...)\u001b[39m\u001b[32m   5586\u001b[39m \u001b[33;03m            weight  1.0     0.8\u001b[39;00m\n\u001b[32m   5587\u001b[39m \u001b[33;03m    \"\"\"\u001b[39;00m\n\u001b[32m-> \u001b[39m\u001b[32m5588\u001b[39m     \u001b[38;5;28;01mreturn\u001b[39;00m \u001b[38;5;28;43msuper\u001b[39;49m\u001b[43m(\u001b[49m\u001b[43m)\u001b[49m\u001b[43m.\u001b[49m\u001b[43mdrop\u001b[49m\u001b[43m(\u001b[49m\n\u001b[32m   5589\u001b[39m \u001b[43m        \u001b[49m\u001b[43mlabels\u001b[49m\u001b[43m=\u001b[49m\u001b[43mlabels\u001b[49m\u001b[43m,\u001b[49m\n\u001b[32m   5590\u001b[39m \u001b[43m        \u001b[49m\u001b[43maxis\u001b[49m\u001b[43m=\u001b[49m\u001b[43maxis\u001b[49m\u001b[43m,\u001b[49m\n\u001b[32m   5591\u001b[39m \u001b[43m        \u001b[49m\u001b[43mindex\u001b[49m\u001b[43m=\u001b[49m\u001b[43mindex\u001b[49m\u001b[43m,\u001b[49m\n\u001b[32m   5592\u001b[39m \u001b[43m        \u001b[49m\u001b[43mcolumns\u001b[49m\u001b[43m=\u001b[49m\u001b[43mcolumns\u001b[49m\u001b[43m,\u001b[49m\n\u001b[32m   5593\u001b[39m \u001b[43m        \u001b[49m\u001b[43mlevel\u001b[49m\u001b[43m=\u001b[49m\u001b[43mlevel\u001b[49m\u001b[43m,\u001b[49m\n\u001b[32m   5594\u001b[39m \u001b[43m        \u001b[49m\u001b[43minplace\u001b[49m\u001b[43m=\u001b[49m\u001b[43minplace\u001b[49m\u001b[43m,\u001b[49m\n\u001b[32m   5595\u001b[39m \u001b[43m        \u001b[49m\u001b[43merrors\u001b[49m\u001b[43m=\u001b[49m\u001b[43merrors\u001b[49m\u001b[43m,\u001b[49m\n\u001b[32m   5596\u001b[39m \u001b[43m    \u001b[49m\u001b[43m)\u001b[49m\n",
      "\u001b[36mFile \u001b[39m\u001b[32m~/Documents/curso_data_analytics_andes/entorno_analitica_datos/lib/python3.13/site-packages/pandas/core/generic.py:4807\u001b[39m, in \u001b[36mNDFrame.drop\u001b[39m\u001b[34m(self, labels, axis, index, columns, level, inplace, errors)\u001b[39m\n\u001b[32m   4805\u001b[39m \u001b[38;5;28;01mfor\u001b[39;00m axis, labels \u001b[38;5;129;01min\u001b[39;00m axes.items():\n\u001b[32m   4806\u001b[39m     \u001b[38;5;28;01mif\u001b[39;00m labels \u001b[38;5;129;01mis\u001b[39;00m \u001b[38;5;129;01mnot\u001b[39;00m \u001b[38;5;28;01mNone\u001b[39;00m:\n\u001b[32m-> \u001b[39m\u001b[32m4807\u001b[39m         obj = \u001b[43mobj\u001b[49m\u001b[43m.\u001b[49m\u001b[43m_drop_axis\u001b[49m\u001b[43m(\u001b[49m\u001b[43mlabels\u001b[49m\u001b[43m,\u001b[49m\u001b[43m \u001b[49m\u001b[43maxis\u001b[49m\u001b[43m,\u001b[49m\u001b[43m \u001b[49m\u001b[43mlevel\u001b[49m\u001b[43m=\u001b[49m\u001b[43mlevel\u001b[49m\u001b[43m,\u001b[49m\u001b[43m \u001b[49m\u001b[43merrors\u001b[49m\u001b[43m=\u001b[49m\u001b[43merrors\u001b[49m\u001b[43m)\u001b[49m\n\u001b[32m   4809\u001b[39m \u001b[38;5;28;01mif\u001b[39;00m inplace:\n\u001b[32m   4810\u001b[39m     \u001b[38;5;28mself\u001b[39m._update_inplace(obj)\n",
      "\u001b[36mFile \u001b[39m\u001b[32m~/Documents/curso_data_analytics_andes/entorno_analitica_datos/lib/python3.13/site-packages/pandas/core/generic.py:4849\u001b[39m, in \u001b[36mNDFrame._drop_axis\u001b[39m\u001b[34m(self, labels, axis, level, errors, only_slice)\u001b[39m\n\u001b[32m   4847\u001b[39m         new_axis = axis.drop(labels, level=level, errors=errors)\n\u001b[32m   4848\u001b[39m     \u001b[38;5;28;01melse\u001b[39;00m:\n\u001b[32m-> \u001b[39m\u001b[32m4849\u001b[39m         new_axis = \u001b[43maxis\u001b[49m\u001b[43m.\u001b[49m\u001b[43mdrop\u001b[49m\u001b[43m(\u001b[49m\u001b[43mlabels\u001b[49m\u001b[43m,\u001b[49m\u001b[43m \u001b[49m\u001b[43merrors\u001b[49m\u001b[43m=\u001b[49m\u001b[43merrors\u001b[49m\u001b[43m)\u001b[49m\n\u001b[32m   4850\u001b[39m     indexer = axis.get_indexer(new_axis)\n\u001b[32m   4852\u001b[39m \u001b[38;5;66;03m# Case for non-unique axis\u001b[39;00m\n\u001b[32m   4853\u001b[39m \u001b[38;5;28;01melse\u001b[39;00m:\n",
      "\u001b[36mFile \u001b[39m\u001b[32m~/Documents/curso_data_analytics_andes/entorno_analitica_datos/lib/python3.13/site-packages/pandas/core/indexes/base.py:7136\u001b[39m, in \u001b[36mIndex.drop\u001b[39m\u001b[34m(self, labels, errors)\u001b[39m\n\u001b[32m   7134\u001b[39m \u001b[38;5;28;01mif\u001b[39;00m mask.any():\n\u001b[32m   7135\u001b[39m     \u001b[38;5;28;01mif\u001b[39;00m errors != \u001b[33m\"\u001b[39m\u001b[33mignore\u001b[39m\u001b[33m\"\u001b[39m:\n\u001b[32m-> \u001b[39m\u001b[32m7136\u001b[39m         \u001b[38;5;28;01mraise\u001b[39;00m \u001b[38;5;167;01mKeyError\u001b[39;00m(\u001b[33mf\u001b[39m\u001b[33m\"\u001b[39m\u001b[38;5;132;01m{\u001b[39;00mlabels[mask].tolist()\u001b[38;5;132;01m}\u001b[39;00m\u001b[33m not found in axis\u001b[39m\u001b[33m\"\u001b[39m)\n\u001b[32m   7137\u001b[39m     indexer = indexer[~mask]\n\u001b[32m   7138\u001b[39m \u001b[38;5;28;01mreturn\u001b[39;00m \u001b[38;5;28mself\u001b[39m.delete(indexer)\n",
      "\u001b[31mKeyError\u001b[39m: \"['Columna1'] not found in axis\""
     ]
    }
   ],
   "source": [
    "# Eliminamos la variable Columna1 que tiene todos los datos faltantes\n",
    "data_integrada.drop(columns=['Columna1'], inplace=True)\n",
    "data_integrada.dtypes"
   ]
  },
  {
   "cell_type": "markdown",
   "metadata": {
    "scrolled": true
   },
   "source": [
    "## Transformación de formatos de variables "
   ]
  },
  {
   "cell_type": "code",
   "execution_count": null,
   "metadata": {},
   "outputs": [],
   "source": [
    "##### Cambio de formato de una variable\n",
    "data[\"V5\"]=data[\"V5\"].astype(float)  \n",
    "\n",
    "##### formatos que se puede utilizar\n",
    "##### int / int64 - convierte a enteros\n",
    "##### float / float64 - convierte a Números decimales\n",
    "##### int32 /  float32 - versiones de menor precisión\n",
    "##### 'Int64' - (con mayúscula) convierte a enteros que permiten nulos (nullable)\n",
    "##### 'str' - convierte a texto\n",
    "##### data['col'] = pd.to_datetime(data['col']) convierte a fecha\n",
    "\n",
    "##### Hacer varios cambios de formato a la vez\n",
    "data = data.astype({\n",
    "    'edad': 'int',\n",
    "    'ingresos': 'float',\n",
    "    'genero': 'category'\n",
    "})\n",
    "\n",
    "#### Transformación de variables en formato datetime\n",
    "# Extraer el mes\n",
    "data['mes'] = data['fecha a transformar'].dt.month\n",
    "\n",
    "# Extrae el año\n",
    "data['año'] = data['fecha a transformar'].dt.year"
   ]
  },
  {
   "cell_type": "markdown",
   "metadata": {},
   "source": [
    "## Cómo guardar dataframes en formato CSV o excel"
   ]
  },
  {
   "cell_type": "code",
   "execution_count": null,
   "metadata": {},
   "outputs": [],
   "source": [
    "data.to_csv('file_name.csv', index=False)"
   ]
  },
  {
   "cell_type": "code",
   "execution_count": null,
   "metadata": {},
   "outputs": [],
   "source": [
    "data.to_excel('file_name.xlsx', index=False)"
   ]
  }
 ],
 "metadata": {
  "kernelspec": {
   "display_name": "entorno_analitica_datos",
   "language": "python",
   "name": "python3"
  },
  "language_info": {
   "codemirror_mode": {
    "name": "ipython",
    "version": 3
   },
   "file_extension": ".py",
   "mimetype": "text/x-python",
   "name": "python",
   "nbconvert_exporter": "python",
   "pygments_lexer": "ipython3",
   "version": "3.13.5"
  }
 },
 "nbformat": 4,
 "nbformat_minor": 4
}
