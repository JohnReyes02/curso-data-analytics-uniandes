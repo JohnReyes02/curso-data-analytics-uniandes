{
 "cells": [
  {
   "cell_type": "markdown",
   "metadata": {},
   "source": [
    "# Sesión 1: Analítica descriptiva de datos"
   ]
  },
  {
   "cell_type": "markdown",
   "metadata": {},
   "source": [
    "Esta primera práctica se realizará sobre los datos obtenidos de la página https://insideairbnb.com/\n",
    "<br> para la ciudad de Albany"
   ]
  },
  {
   "cell_type": "markdown",
   "metadata": {},
   "source": [
    "### Preparación del ambiente de trabajo\n",
    "#### Cargue de librerías"
   ]
  },
  {
   "cell_type": "markdown",
   "metadata": {},
   "source": [
    "Antes de realizar un análisis, se debe verificar que se cuenta con las librerías requeridas intaladas. \n",
    "<br> En este taller iniciamos con las librerías básicas.\n",
    "<br> Sin embargo, en cualquier momento se puede realizar la instalación y cargue de una nueva librería. \n",
    "<br> Para la instalación de una nueva librería puede utilizar el comando 'conda install' de Anaconda."
   ]
  },
  {
   "cell_type": "code",
   "execution_count": 1,
   "metadata": {},
   "outputs": [],
   "source": [
    "import os, sys\n",
    "import numpy as np\n",
    "import pandas as pd"
   ]
  },
  {
   "cell_type": "markdown",
   "metadata": {},
   "source": [
    "### Lectura de los datos\n",
    "Lectura desde carpeta local de un archivo en formato csv\n",
    "<br> Ingrese a la carpeta compartida en Onedrive TALLER 1 y descargue los archivos: listings.csv y listings.xlsx\n",
    "<br> Configuración del directorio:\n",
    "<br> 1. Copie la ruta en donde guardó el archivo"
   ]
  },
  {
   "cell_type": "code",
   "execution_count": 2,
   "metadata": {},
   "outputs": [],
   "source": [
    "## Copie la ruta despues del comando %cd\n",
    "# %cd C:\\Users\\X1 Carbon\\OneDrive\\Documentos\\1_NEICON\\1_Proyectos\\2_Carpeta Tito\\Capacitación UniAndes_Ecopetrol\\Datsets\\Taller_1\n",
    "ruta = './listings.csv'"
   ]
  },
  {
   "cell_type": "code",
   "execution_count": 3,
   "metadata": {},
   "outputs": [],
   "source": [
    "## Compado para cargar archivos en formato texto (csv)\n",
    "data=pd.read_csv(ruta, sep=',')"
   ]
  },
  {
   "cell_type": "code",
   "execution_count": 4,
   "metadata": {
    "scrolled": true
   },
   "outputs": [
    {
     "data": {
      "text/html": [
       "<div>\n",
       "<style scoped>\n",
       "    .dataframe tbody tr th:only-of-type {\n",
       "        vertical-align: middle;\n",
       "    }\n",
       "\n",
       "    .dataframe tbody tr th {\n",
       "        vertical-align: top;\n",
       "    }\n",
       "\n",
       "    .dataframe thead th {\n",
       "        text-align: right;\n",
       "    }\n",
       "</style>\n",
       "<table border=\"1\" class=\"dataframe\">\n",
       "  <thead>\n",
       "    <tr style=\"text-align: right;\">\n",
       "      <th></th>\n",
       "      <th>id</th>\n",
       "      <th>name</th>\n",
       "      <th>host_id</th>\n",
       "      <th>host_name</th>\n",
       "      <th>neighbourhood_group</th>\n",
       "      <th>neighbourhood</th>\n",
       "      <th>latitude</th>\n",
       "      <th>longitude</th>\n",
       "      <th>room_type</th>\n",
       "      <th>price</th>\n",
       "      <th>minimum_nights</th>\n",
       "      <th>number_of_reviews</th>\n",
       "      <th>last_review</th>\n",
       "      <th>reviews_per_month</th>\n",
       "      <th>calculated_host_listings_count</th>\n",
       "      <th>availability_365</th>\n",
       "      <th>number_of_reviews_ltm</th>\n",
       "      <th>license</th>\n",
       "    </tr>\n",
       "  </thead>\n",
       "  <tbody>\n",
       "    <tr>\n",
       "      <th>0</th>\n",
       "      <td>621960198566758900</td>\n",
       "      <td>The Historic Jesse Buel Farmhouse w/ Heated Pool</td>\n",
       "      <td>382970529</td>\n",
       "      <td>Thomas</td>\n",
       "      <td>NaN</td>\n",
       "      <td>FOURTEENTH WARD</td>\n",
       "      <td>42.66762</td>\n",
       "      <td>-73.79919</td>\n",
       "      <td>Entire home/apt</td>\n",
       "      <td>882.0</td>\n",
       "      <td>1</td>\n",
       "      <td>15</td>\n",
       "      <td>2025-02-06</td>\n",
       "      <td>0.47</td>\n",
       "      <td>12</td>\n",
       "      <td>330</td>\n",
       "      <td>8</td>\n",
       "      <td>NaN</td>\n",
       "    </tr>\n",
       "    <tr>\n",
       "      <th>1</th>\n",
       "      <td>932642358896439621</td>\n",
       "      <td>Stylish top floor apt w/parking</td>\n",
       "      <td>232967878</td>\n",
       "      <td>Diana</td>\n",
       "      <td>NaN</td>\n",
       "      <td>THIRTEENTH WARD</td>\n",
       "      <td>42.67224</td>\n",
       "      <td>-73.79301</td>\n",
       "      <td>Entire home/apt</td>\n",
       "      <td>106.0</td>\n",
       "      <td>1</td>\n",
       "      <td>37</td>\n",
       "      <td>2025-02-15</td>\n",
       "      <td>1.88</td>\n",
       "      <td>23</td>\n",
       "      <td>86</td>\n",
       "      <td>26</td>\n",
       "      <td>NaN</td>\n",
       "    </tr>\n",
       "    <tr>\n",
       "      <th>2</th>\n",
       "      <td>53567589</td>\n",
       "      <td>Private Garden Apt in Downtown Albany|Pets All...</td>\n",
       "      <td>433096110</td>\n",
       "      <td>Brian</td>\n",
       "      <td>NaN</td>\n",
       "      <td>SIXTH WARD</td>\n",
       "      <td>42.65204</td>\n",
       "      <td>-73.76655</td>\n",
       "      <td>Entire home/apt</td>\n",
       "      <td>99.0</td>\n",
       "      <td>1</td>\n",
       "      <td>251</td>\n",
       "      <td>2025-02-23</td>\n",
       "      <td>6.40</td>\n",
       "      <td>4</td>\n",
       "      <td>341</td>\n",
       "      <td>73</td>\n",
       "      <td>NaN</td>\n",
       "    </tr>\n",
       "  </tbody>\n",
       "</table>\n",
       "</div>"
      ],
      "text/plain": [
       "                   id                                               name  \\\n",
       "0  621960198566758900   The Historic Jesse Buel Farmhouse w/ Heated Pool   \n",
       "1  932642358896439621                    Stylish top floor apt w/parking   \n",
       "2            53567589  Private Garden Apt in Downtown Albany|Pets All...   \n",
       "\n",
       "     host_id host_name  neighbourhood_group    neighbourhood  latitude  \\\n",
       "0  382970529    Thomas                  NaN  FOURTEENTH WARD  42.66762   \n",
       "1  232967878     Diana                  NaN  THIRTEENTH WARD  42.67224   \n",
       "2  433096110     Brian                  NaN       SIXTH WARD  42.65204   \n",
       "\n",
       "   longitude        room_type  price  minimum_nights  number_of_reviews  \\\n",
       "0  -73.79919  Entire home/apt  882.0               1                 15   \n",
       "1  -73.79301  Entire home/apt  106.0               1                 37   \n",
       "2  -73.76655  Entire home/apt   99.0               1                251   \n",
       "\n",
       "  last_review  reviews_per_month  calculated_host_listings_count  \\\n",
       "0  2025-02-06               0.47                              12   \n",
       "1  2025-02-15               1.88                              23   \n",
       "2  2025-02-23               6.40                               4   \n",
       "\n",
       "   availability_365  number_of_reviews_ltm  license  \n",
       "0               330                      8      NaN  \n",
       "1                86                     26      NaN  \n",
       "2               341                     73      NaN  "
      ]
     },
     "execution_count": 4,
     "metadata": {},
     "output_type": "execute_result"
    }
   ],
   "source": [
    "## Comando Para obtener una primera vista de la tabla\n",
    "data.head(3)"
   ]
  },
  {
   "cell_type": "markdown",
   "metadata": {},
   "source": [
    "#### Lectura desde carpeta local de un archivo en formato excel"
   ]
  },
  {
   "cell_type": "code",
   "execution_count": 5,
   "metadata": {},
   "outputs": [
    {
     "data": {
      "text/html": [
       "<div>\n",
       "<style scoped>\n",
       "    .dataframe tbody tr th:only-of-type {\n",
       "        vertical-align: middle;\n",
       "    }\n",
       "\n",
       "    .dataframe tbody tr th {\n",
       "        vertical-align: top;\n",
       "    }\n",
       "\n",
       "    .dataframe thead th {\n",
       "        text-align: right;\n",
       "    }\n",
       "</style>\n",
       "<table border=\"1\" class=\"dataframe\">\n",
       "  <thead>\n",
       "    <tr style=\"text-align: right;\">\n",
       "      <th></th>\n",
       "      <th>id</th>\n",
       "      <th>name</th>\n",
       "      <th>host_id</th>\n",
       "      <th>host_name</th>\n",
       "      <th>neighbourhood_group</th>\n",
       "      <th>neighbourhood</th>\n",
       "      <th>latitude</th>\n",
       "      <th>longitude</th>\n",
       "      <th>room_type</th>\n",
       "      <th>price</th>\n",
       "      <th>minimum_nights</th>\n",
       "      <th>number_of_reviews</th>\n",
       "      <th>last_review</th>\n",
       "      <th>reviews_per_month</th>\n",
       "      <th>calculated_host_listings_count</th>\n",
       "      <th>availability_365</th>\n",
       "      <th>number_of_reviews_ltm</th>\n",
       "      <th>license</th>\n",
       "    </tr>\n",
       "  </thead>\n",
       "  <tbody>\n",
       "    <tr>\n",
       "      <th>0</th>\n",
       "      <td>621960198566758912</td>\n",
       "      <td>The Historic Jesse Buel Farmhouse w/ Heated Pool</td>\n",
       "      <td>382970529</td>\n",
       "      <td>Thomas</td>\n",
       "      <td>NaN</td>\n",
       "      <td>FOURTEENTH WARD</td>\n",
       "      <td>42.66762</td>\n",
       "      <td>-73.79919</td>\n",
       "      <td>Entire home/apt</td>\n",
       "      <td>882.0</td>\n",
       "      <td>1</td>\n",
       "      <td>15</td>\n",
       "      <td>2025-02-06</td>\n",
       "      <td>0.47</td>\n",
       "      <td>12</td>\n",
       "      <td>330</td>\n",
       "      <td>8</td>\n",
       "      <td>NaN</td>\n",
       "    </tr>\n",
       "    <tr>\n",
       "      <th>1</th>\n",
       "      <td>932642358896439680</td>\n",
       "      <td>Stylish top floor apt w/parking</td>\n",
       "      <td>232967878</td>\n",
       "      <td>Diana</td>\n",
       "      <td>NaN</td>\n",
       "      <td>THIRTEENTH WARD</td>\n",
       "      <td>42.67224</td>\n",
       "      <td>-73.79301</td>\n",
       "      <td>Entire home/apt</td>\n",
       "      <td>106.0</td>\n",
       "      <td>1</td>\n",
       "      <td>37</td>\n",
       "      <td>2025-02-15</td>\n",
       "      <td>1.88</td>\n",
       "      <td>23</td>\n",
       "      <td>86</td>\n",
       "      <td>26</td>\n",
       "      <td>NaN</td>\n",
       "    </tr>\n",
       "    <tr>\n",
       "      <th>2</th>\n",
       "      <td>53567589</td>\n",
       "      <td>Private Garden Apt in Downtown Albany|Pets All...</td>\n",
       "      <td>433096110</td>\n",
       "      <td>Brian</td>\n",
       "      <td>NaN</td>\n",
       "      <td>SIXTH WARD</td>\n",
       "      <td>42.65204</td>\n",
       "      <td>-73.76655</td>\n",
       "      <td>Entire home/apt</td>\n",
       "      <td>99.0</td>\n",
       "      <td>1</td>\n",
       "      <td>251</td>\n",
       "      <td>2025-02-23</td>\n",
       "      <td>6.40</td>\n",
       "      <td>4</td>\n",
       "      <td>341</td>\n",
       "      <td>73</td>\n",
       "      <td>NaN</td>\n",
       "    </tr>\n",
       "    <tr>\n",
       "      <th>3</th>\n",
       "      <td>20671966</td>\n",
       "      <td>The Metropolitan</td>\n",
       "      <td>98744672</td>\n",
       "      <td>Bela</td>\n",
       "      <td>NaN</td>\n",
       "      <td>NINTH WARD</td>\n",
       "      <td>42.65532</td>\n",
       "      <td>-73.78244</td>\n",
       "      <td>Entire home/apt</td>\n",
       "      <td>58.0</td>\n",
       "      <td>2</td>\n",
       "      <td>46</td>\n",
       "      <td>2025-01-19</td>\n",
       "      <td>0.51</td>\n",
       "      <td>8</td>\n",
       "      <td>248</td>\n",
       "      <td>7</td>\n",
       "      <td>NaN</td>\n",
       "    </tr>\n",
       "  </tbody>\n",
       "</table>\n",
       "</div>"
      ],
      "text/plain": [
       "                   id                                               name  \\\n",
       "0  621960198566758912   The Historic Jesse Buel Farmhouse w/ Heated Pool   \n",
       "1  932642358896439680                    Stylish top floor apt w/parking   \n",
       "2            53567589  Private Garden Apt in Downtown Albany|Pets All...   \n",
       "3            20671966                                   The Metropolitan   \n",
       "\n",
       "     host_id host_name  neighbourhood_group    neighbourhood  latitude  \\\n",
       "0  382970529    Thomas                  NaN  FOURTEENTH WARD  42.66762   \n",
       "1  232967878     Diana                  NaN  THIRTEENTH WARD  42.67224   \n",
       "2  433096110     Brian                  NaN       SIXTH WARD  42.65204   \n",
       "3   98744672      Bela                  NaN       NINTH WARD  42.65532   \n",
       "\n",
       "   longitude        room_type  price  minimum_nights  number_of_reviews  \\\n",
       "0  -73.79919  Entire home/apt  882.0               1                 15   \n",
       "1  -73.79301  Entire home/apt  106.0               1                 37   \n",
       "2  -73.76655  Entire home/apt   99.0               1                251   \n",
       "3  -73.78244  Entire home/apt   58.0               2                 46   \n",
       "\n",
       "  last_review  reviews_per_month  calculated_host_listings_count  \\\n",
       "0  2025-02-06               0.47                              12   \n",
       "1  2025-02-15               1.88                              23   \n",
       "2  2025-02-23               6.40                               4   \n",
       "3  2025-01-19               0.51                               8   \n",
       "\n",
       "   availability_365  number_of_reviews_ltm  license  \n",
       "0               330                      8      NaN  \n",
       "1                86                     26      NaN  \n",
       "2               341                     73      NaN  \n",
       "3               248                      7      NaN  "
      ]
     },
     "execution_count": 5,
     "metadata": {},
     "output_type": "execute_result"
    }
   ],
   "source": [
    "## Comando para cargue d archivos en formato Excel\n",
    "ruta = './listings.xlsx'\n",
    "data=pd.read_excel(ruta)\n",
    "data.head(4)"
   ]
  },
  {
   "cell_type": "markdown",
   "metadata": {},
   "source": [
    "Como se puede observar en la vista anterior, la primera columna no tiene nombre, esto es por que el data frame de pandas asigna un índice, el cual nos puede ayudar a realizar algunas consultas posteriormente\n",
    "<br>\n",
    "<br>\n",
    "Una vez se han cargado los datos se debe realizar un primer diagnóstico. \n",
    "<br> Identifique cuál es el tipo de variables que contiene el archivo, si la herramienta cargó correctamente los datos, la cantidad, formatos, valores etc.\n",
    "<br>\n",
    "<br> Con su equipo haga una breve descripción del dataset cargado. Utilice los siguientes comandos para hacer la exploración"
   ]
  },
  {
   "cell_type": "code",
   "execution_count": 6,
   "metadata": {},
   "outputs": [
    {
     "data": {
      "text/plain": [
       "(424, 18)"
      ]
     },
     "execution_count": 6,
     "metadata": {},
     "output_type": "execute_result"
    }
   ],
   "source": [
    "#Relaciona la cantidad de registros y variables que contiene el dataset\n",
    "data.shape"
   ]
  },
  {
   "cell_type": "code",
   "execution_count": 7,
   "metadata": {},
   "outputs": [
    {
     "data": {
      "text/plain": [
       "id                                         int64\n",
       "name                                      object\n",
       "host_id                                    int64\n",
       "host_name                                 object\n",
       "neighbourhood_group                      float64\n",
       "neighbourhood                             object\n",
       "latitude                                 float64\n",
       "longitude                                float64\n",
       "room_type                                 object\n",
       "price                                    float64\n",
       "minimum_nights                             int64\n",
       "number_of_reviews                          int64\n",
       "last_review                       datetime64[ns]\n",
       "reviews_per_month                        float64\n",
       "calculated_host_listings_count             int64\n",
       "availability_365                           int64\n",
       "number_of_reviews_ltm                      int64\n",
       "license                                  float64\n",
       "dtype: object"
      ]
     },
     "execution_count": 7,
     "metadata": {},
     "output_type": "execute_result"
    }
   ],
   "source": [
    "#Lista todas las variables que contiene el dataset y especifica el tipo de dato\n",
    "data.dtypes"
   ]
  },
  {
   "cell_type": "code",
   "execution_count": 8,
   "metadata": {},
   "outputs": [
    {
     "data": {
      "text/html": [
       "<div>\n",
       "<style scoped>\n",
       "    .dataframe tbody tr th:only-of-type {\n",
       "        vertical-align: middle;\n",
       "    }\n",
       "\n",
       "    .dataframe tbody tr th {\n",
       "        vertical-align: top;\n",
       "    }\n",
       "\n",
       "    .dataframe thead th {\n",
       "        text-align: right;\n",
       "    }\n",
       "</style>\n",
       "<table border=\"1\" class=\"dataframe\">\n",
       "  <thead>\n",
       "    <tr style=\"text-align: right;\">\n",
       "      <th></th>\n",
       "      <th>price</th>\n",
       "      <th>minimum_nights</th>\n",
       "      <th>availability_365</th>\n",
       "    </tr>\n",
       "  </thead>\n",
       "  <tbody>\n",
       "    <tr>\n",
       "      <th>0</th>\n",
       "      <td>882.0</td>\n",
       "      <td>1</td>\n",
       "      <td>330</td>\n",
       "    </tr>\n",
       "    <tr>\n",
       "      <th>1</th>\n",
       "      <td>106.0</td>\n",
       "      <td>1</td>\n",
       "      <td>86</td>\n",
       "    </tr>\n",
       "    <tr>\n",
       "      <th>2</th>\n",
       "      <td>99.0</td>\n",
       "      <td>1</td>\n",
       "      <td>341</td>\n",
       "    </tr>\n",
       "    <tr>\n",
       "      <th>3</th>\n",
       "      <td>58.0</td>\n",
       "      <td>2</td>\n",
       "      <td>248</td>\n",
       "    </tr>\n",
       "    <tr>\n",
       "      <th>4</th>\n",
       "      <td>50.0</td>\n",
       "      <td>2</td>\n",
       "      <td>340</td>\n",
       "    </tr>\n",
       "  </tbody>\n",
       "</table>\n",
       "</div>"
      ],
      "text/plain": [
       "   price  minimum_nights  availability_365\n",
       "0  882.0               1               330\n",
       "1  106.0               1                86\n",
       "2   99.0               1               341\n",
       "3   58.0               2               248\n",
       "4   50.0               2               340"
      ]
     },
     "execution_count": 8,
     "metadata": {},
     "output_type": "execute_result"
    }
   ],
   "source": [
    "#Exploración de variables continuas\n",
    "#Vamos a filtras las variables a analizar\n",
    "#Para el ejercicio complemente con las variables faltantes que puedan ser de interés.\n",
    "\n",
    "data_continuas=data.loc[:, ['price','minimum_nights', 'availability_365']]\n",
    "data_continuas.head()"
   ]
  },
  {
   "cell_type": "code",
   "execution_count": 9,
   "metadata": {},
   "outputs": [
    {
     "data": {
      "text/plain": [
       "count    374.000000\n",
       "mean     110.042781\n",
       "std       86.746145\n",
       "min       24.000000\n",
       "25%       68.000000\n",
       "50%       93.000000\n",
       "75%      122.750000\n",
       "max      882.000000\n",
       "Name: price, dtype: float64"
      ]
     },
     "execution_count": 9,
     "metadata": {},
     "output_type": "execute_result"
    }
   ],
   "source": [
    "#Cómo se comporta la variable precio - analice el resultado\n",
    "data_continuas['price'].describe()"
   ]
  },
  {
   "cell_type": "code",
   "execution_count": 10,
   "metadata": {},
   "outputs": [
    {
     "name": "stdout",
     "output_type": "stream",
     "text": [
      "Estadísticas descriptivas\n",
      "                  count        mean         std   min     25%    50%     75%  \\\n",
      "price             374.0  110.042781   86.746145  24.0   68.00   93.0  122.75   \n",
      "minimum_nights    424.0    5.693396    9.627107   1.0    1.00    2.0    3.00   \n",
      "availability_365  424.0  233.261792  119.275432   0.0  119.75  268.0  341.25   \n",
      "\n",
      "                    max  \n",
      "price             882.0  \n",
      "minimum_nights     70.0  \n",
      "availability_365  365.0  \n"
     ]
    }
   ],
   "source": [
    "# Ahora vamos a generar las estadísticas descriptivas para todas las variables a la vez.\n",
    "# Analice el resultado\n",
    "\n",
    "variables_continuas = ['price','minimum_nights', 'availability_365']\n",
    "estadisticas = data[variables_continuas].describe().T\n",
    "\n",
    "# Mostramos las estadísticas\n",
    "print(\"Estadísticas descriptivas\")\n",
    "print(estadisticas)"
   ]
  },
  {
   "cell_type": "code",
   "execution_count": 11,
   "metadata": {},
   "outputs": [
    {
     "name": "stdout",
     "output_type": "stream",
     "text": [
      "<class 'pandas.core.frame.DataFrame'>\n",
      "RangeIndex: 424 entries, 0 to 423\n",
      "Data columns (total 3 columns):\n",
      " #   Column            Non-Null Count  Dtype  \n",
      "---  ------            --------------  -----  \n",
      " 0   price             374 non-null    float64\n",
      " 1   minimum_nights    424 non-null    int64  \n",
      " 2   availability_365  424 non-null    int64  \n",
      "dtypes: float64(1), int64(2)\n",
      "memory usage: 10.1 KB\n"
     ]
    }
   ],
   "source": [
    "data_continuas.info()"
   ]
  },
  {
   "cell_type": "code",
   "execution_count": 12,
   "metadata": {
    "scrolled": true
   },
   "outputs": [
    {
     "data": {
      "image/png": "[encoded data removed]",
      "text/plain": [
       "<Figure size 300x300 with 1 Axes>"
      ]
     },
     "metadata": {},
     "output_type": "display_data"
    }
   ],
   "source": [
    "# Ahora vamos a analizar el comportamiento de manera gráfica para lo cual cargamos la librería\n",
    "import matplotlib.pyplot as plt\n",
    "\n",
    "# Histogramas de frecuencia\n",
    "data[variables_continuas].hist('price', figsize=(3, 3), bins=20)\n",
    "plt.tight_layout()\n",
    "plt.show()\n",
    "\n",
    "#Analiza el resultado y explora el código para mejorar el gráfico"
   ]
  },
  {
   "cell_type": "code",
   "execution_count": 13,
   "metadata": {},
   "outputs": [
    {
     "data": {
      "image/png": "[encoded data removed]",
      "text/plain": [
       "<Figure size 300x300 with 1 Axes>"
      ]
     },
     "metadata": {},
     "output_type": "display_data"
    }
   ],
   "source": [
    "#Ahora probemos otra sintáxis\n",
    "\n",
    "data[data['price'] <= 200]['price'].hist(figsize=(3, 3), bins=10)\n",
    "\n",
    "plt.title('Histograma de price (<= 200)')\n",
    "plt.xlabel('Price')\n",
    "plt.ylabel('Frecuencia')\n",
    "plt.tight_layout()\n",
    "plt.show()\n",
    "\n",
    "#Analiza el resultado y comparte tus conclusiones.\n",
    "#Compara las dos sintaxis, que observas?"
   ]
  },
  {
   "cell_type": "code",
   "execution_count": 14,
   "metadata": {},
   "outputs": [
    {
     "data": {
      "text/html": [
       "<div>\n",
       "<style scoped>\n",
       "    .dataframe tbody tr th:only-of-type {\n",
       "        vertical-align: middle;\n",
       "    }\n",
       "\n",
       "    .dataframe tbody tr th {\n",
       "        vertical-align: top;\n",
       "    }\n",
       "\n",
       "    .dataframe thead th {\n",
       "        text-align: right;\n",
       "    }\n",
       "</style>\n",
       "<table border=\"1\" class=\"dataframe\">\n",
       "  <thead>\n",
       "    <tr style=\"text-align: right;\">\n",
       "      <th></th>\n",
       "      <th>price</th>\n",
       "      <th>neighbourhood</th>\n",
       "    </tr>\n",
       "  </thead>\n",
       "  <tbody>\n",
       "    <tr>\n",
       "      <th>0</th>\n",
       "      <td>882.0</td>\n",
       "      <td>FOURTEENTH WARD</td>\n",
       "    </tr>\n",
       "    <tr>\n",
       "      <th>1</th>\n",
       "      <td>106.0</td>\n",
       "      <td>THIRTEENTH WARD</td>\n",
       "    </tr>\n",
       "    <tr>\n",
       "      <th>2</th>\n",
       "      <td>99.0</td>\n",
       "      <td>SIXTH WARD</td>\n",
       "    </tr>\n",
       "    <tr>\n",
       "      <th>3</th>\n",
       "      <td>58.0</td>\n",
       "      <td>NINTH WARD</td>\n",
       "    </tr>\n",
       "    <tr>\n",
       "      <th>4</th>\n",
       "      <td>50.0</td>\n",
       "      <td>NINTH WARD</td>\n",
       "    </tr>\n",
       "    <tr>\n",
       "      <th>5</th>\n",
       "      <td>93.0</td>\n",
       "      <td>SIXTH WARD</td>\n",
       "    </tr>\n",
       "    <tr>\n",
       "      <th>6</th>\n",
       "      <td>156.0</td>\n",
       "      <td>FOURTEENTH WARD</td>\n",
       "    </tr>\n",
       "    <tr>\n",
       "      <th>7</th>\n",
       "      <td>142.0</td>\n",
       "      <td>FOURTEENTH WARD</td>\n",
       "    </tr>\n",
       "    <tr>\n",
       "      <th>8</th>\n",
       "      <td>96.0</td>\n",
       "      <td>SIXTH WARD</td>\n",
       "    </tr>\n",
       "    <tr>\n",
       "      <th>9</th>\n",
       "      <td>88.0</td>\n",
       "      <td>SIXTH WARD</td>\n",
       "    </tr>\n",
       "  </tbody>\n",
       "</table>\n",
       "</div>"
      ],
      "text/plain": [
       "   price    neighbourhood\n",
       "0  882.0  FOURTEENTH WARD\n",
       "1  106.0  THIRTEENTH WARD\n",
       "2   99.0       SIXTH WARD\n",
       "3   58.0       NINTH WARD\n",
       "4   50.0       NINTH WARD\n",
       "5   93.0       SIXTH WARD\n",
       "6  156.0  FOURTEENTH WARD\n",
       "7  142.0  FOURTEENTH WARD\n",
       "8   96.0       SIXTH WARD\n",
       "9   88.0       SIXTH WARD"
      ]
     },
     "execution_count": 14,
     "metadata": {},
     "output_type": "execute_result"
    }
   ],
   "source": [
    "data_continuas2=data.loc[:, ['price','neighbourhood']]\n",
    "data_continuas2.head(10)"
   ]
  },
  {
   "cell_type": "code",
   "execution_count": 15,
   "metadata": {},
   "outputs": [
    {
     "name": "stdout",
     "output_type": "stream",
     "text": [
      "neighbourhood\n",
      "SIXTH WARD         96\n",
      "SECOND WARD        51\n",
      "TENTH WARD         44\n",
      "THIRTEENTH WARD    42\n",
      "THIRD WARD         39\n",
      "NINTH WARD         32\n",
      "FOURTEENTH WARD    24\n",
      "FIFTEENTH WARD     18\n",
      "SEVENTH WARD       16\n",
      "ELEVENTH WARD      15\n",
      "FOURTH WARD        14\n",
      "EIGHTH WARD        11\n",
      "FIRST WARD          9\n",
      "FIFTH WARD          7\n",
      "TWELFTH WARD        6\n",
      "Name: count, dtype: int64\n"
     ]
    }
   ],
   "source": [
    "# Calculamos la frecuencia por cada valor que toma la variable\n",
    "frecuencia_neighbourhood = data_continuas2['neighbourhood'].value_counts()\n",
    "print(frecuencia_neighbourhood)"
   ]
  },
  {
   "cell_type": "code",
   "execution_count": 16,
   "metadata": {},
   "outputs": [
    {
     "data": {
      "image/png": "[encoded data removed]",
      "text/plain": [
       "<Figure size 640x480 with 1 Axes>"
      ]
     },
     "metadata": {},
     "output_type": "display_data"
    }
   ],
   "source": [
    "plot_frec_abs = data_continuas2['neighbourhood'].value_counts().plot(kind='bar', title='Frecuencia de neighbourhood')\n",
    "\n",
    "plt.xlabel('neighbourhood')\n",
    "plt.ylabel('Frecuencia absoluta')\n",
    "plt.xticks(rotation=90)\n",
    "plt.tight_layout()\n",
    "plt.show()"
   ]
  },
  {
   "cell_type": "code",
   "execution_count": 17,
   "metadata": {},
   "outputs": [
    {
     "data": {
      "image/png": "[encoded data removed]",
      "text/plain": [
       "<Figure size 500x500 with 1 Axes>"
      ]
     },
     "metadata": {},
     "output_type": "display_data"
    }
   ],
   "source": [
    "# Ahora vamos a realizar el análisis con los boxplot\n",
    "data_continuas2.boxplot('price',by=\"neighbourhood\", figsize=(5,5))\n",
    "plt.xticks(rotation=90)\n",
    "plt.show()"
   ]
  },
  {
   "cell_type": "markdown",
   "metadata": {},
   "source": [
    "## Vamos a revisar lo que hemos aprendido hasta acá\n",
    "#### ¿Qué información nos proporcionan las estadísticas descriptivas?\n",
    "#### ¿Qué información nos proporcionan los gráficos?\n",
    "#### Cómo cientifico de datos cuál es tu recomendación del método a utilizar para analizar variables continuas?"
   ]
  },
  {
   "cell_type": "code",
   "execution_count": 18,
   "metadata": {},
   "outputs": [
    {
     "data": {
      "image/png": "[encoded data removed]",
      "text/plain": [
       "<Figure size 640x480 with 1 Axes>"
      ]
     },
     "metadata": {},
     "output_type": "display_data"
    }
   ],
   "source": [
    "#Ahora vamos a explorar un tipo de gráfico que combina los dos métodos.\n",
    "data[data['price']<=100].boxplot('price')\n",
    "\n",
    "plt.title('Boxplot de Price (<= 100)')\n",
    "plt.ylabel('Price')\n",
    "plt.show()"
   ]
  },
  {
   "cell_type": "markdown",
   "metadata": {},
   "source": [
    "### Ahora vamos a analizar las variables categóricas"
   ]
  },
  {
   "cell_type": "code",
   "execution_count": 19,
   "metadata": {},
   "outputs": [
    {
     "name": "stdout",
     "output_type": "stream",
     "text": [
      "room_type\n",
      "Entire home/apt    308\n",
      "Private room       116\n",
      "Name: count, dtype: int64\n"
     ]
    }
   ],
   "source": [
    "#Seleccionamos en el dataset las variables categóricas de interés\n",
    "variables_categoricas = ['neighbourhood','room_type']\n",
    "\n",
    "# Calculamos la frecuencia por cada valor que toma la variable\n",
    "frecuencia_neighbourhood = data['room_type'].value_counts()\n",
    "print(frecuencia_neighbourhood)"
   ]
  },
  {
   "cell_type": "code",
   "execution_count": 20,
   "metadata": {},
   "outputs": [
    {
     "data": {
      "image/png": "[encoded data removed]",
      "text/plain": [
       "<Figure size 640x480 with 1 Axes>"
      ]
     },
     "metadata": {},
     "output_type": "display_data"
    }
   ],
   "source": [
    "plot_frec_abs = data['room_type'].value_counts().plot(kind='bar', title='Frecuencia de neighbourhood')\n",
    "\n",
    "plt.xlabel('room_type')\n",
    "plt.ylabel('Frecuencia absoluta')\n",
    "plt.xticks(rotation=90)\n",
    "plt.tight_layout()\n",
    "plt.show()"
   ]
  },
  {
   "cell_type": "markdown",
   "metadata": {},
   "source": [
    "Replique el ejercicio para la vaiable room_type"
   ]
  },
  {
   "cell_type": "code",
   "execution_count": 21,
   "metadata": {},
   "outputs": [
    {
     "name": "stdout",
     "output_type": "stream",
     "text": [
      "Frecuencia de valores en la variable 'neighbourhood':\n",
      "neighbourhood\n",
      "SIXTH WARD         96\n",
      "SECOND WARD        51\n",
      "TENTH WARD         44\n",
      "THIRTEENTH WARD    42\n",
      "THIRD WARD         39\n",
      "NINTH WARD         32\n",
      "FOURTEENTH WARD    24\n",
      "FIFTEENTH WARD     18\n",
      "SEVENTH WARD       16\n",
      "ELEVENTH WARD      15\n",
      "FOURTH WARD        14\n",
      "EIGHTH WARD        11\n",
      "FIRST WARD          9\n",
      "FIFTH WARD          7\n",
      "TWELFTH WARD        6\n",
      "Name: count, dtype: int64\n",
      "\n",
      "----------------------------------------\n",
      "\n",
      "Frecuencia de valores en la variable 'room_type':\n",
      "room_type\n",
      "Entire home/apt    308\n",
      "Private room       116\n",
      "Name: count, dtype: int64\n",
      "\n",
      "----------------------------------------\n",
      "\n"
     ]
    }
   ],
   "source": [
    "#Esta sintaxis permite generar la tabla de frecuencias para las dos variables a la vez\n",
    "\n",
    "for col in variables_categoricas:\n",
    "    print(f\"Frecuencia de valores en la variable '{col}':\")\n",
    "    print(data[col].value_counts())\n",
    "    print(\"\\n\" + \"-\"*40 + \"\\n\")"
   ]
  },
  {
   "cell_type": "code",
   "execution_count": 22,
   "metadata": {},
   "outputs": [
    {
     "name": "stdout",
     "output_type": "stream",
     "text": [
      "neighbourhood    room_type      \n",
      "SIXTH WARD       Entire home/apt    83\n",
      "SECOND WARD      Entire home/apt    45\n",
      "THIRD WARD       Entire home/apt    33\n",
      "TENTH WARD       Private room       25\n",
      "THIRTEENTH WARD  Entire home/apt    23\n",
      "TENTH WARD       Entire home/apt    19\n",
      "THIRTEENTH WARD  Private room       19\n",
      "NINTH WARD       Entire home/apt    17\n",
      "                 Private room       15\n",
      "SEVENTH WARD     Entire home/apt    15\n",
      "FOURTEENTH WARD  Entire home/apt    14\n",
      "FIFTEENTH WARD   Entire home/apt    14\n",
      "SIXTH WARD       Private room       13\n",
      "FOURTH WARD      Entire home/apt    12\n",
      "FOURTEENTH WARD  Private room       10\n",
      "ELEVENTH WARD    Private room        9\n",
      "FIRST WARD       Entire home/apt     9\n",
      "EIGHTH WARD      Entire home/apt     8\n",
      "SECOND WARD      Private room        6\n",
      "THIRD WARD       Private room        6\n",
      "ELEVENTH WARD    Entire home/apt     6\n",
      "FIFTH WARD       Entire home/apt     5\n",
      "TWELFTH WARD     Entire home/apt     5\n",
      "FIFTEENTH WARD   Private room        4\n",
      "EIGHTH WARD      Private room        3\n",
      "FOURTH WARD      Private room        2\n",
      "FIFTH WARD       Private room        2\n",
      "SEVENTH WARD     Private room        1\n",
      "TWELFTH WARD     Private room        1\n",
      "Name: count, dtype: int64\n"
     ]
    }
   ],
   "source": [
    "#Ahora descubre que pasa con esta sintaxis\n",
    "frecuencia_neighbourhood = data[variables_categoricas].value_counts()\n",
    "print(frecuencia_neighbourhood)"
   ]
  },
  {
   "cell_type": "code",
   "execution_count": 23,
   "metadata": {},
   "outputs": [
    {
     "data": {
      "text/html": [
       "<div>\n",
       "<style scoped>\n",
       "    .dataframe tbody tr th:only-of-type {\n",
       "        vertical-align: middle;\n",
       "    }\n",
       "\n",
       "    .dataframe tbody tr th {\n",
       "        vertical-align: top;\n",
       "    }\n",
       "\n",
       "    .dataframe thead th {\n",
       "        text-align: right;\n",
       "    }\n",
       "</style>\n",
       "<table border=\"1\" class=\"dataframe\">\n",
       "  <thead>\n",
       "    <tr style=\"text-align: right;\">\n",
       "      <th>room_type</th>\n",
       "      <th>Entire home/apt</th>\n",
       "      <th>Private room</th>\n",
       "    </tr>\n",
       "    <tr>\n",
       "      <th>neighbourhood</th>\n",
       "      <th></th>\n",
       "      <th></th>\n",
       "    </tr>\n",
       "  </thead>\n",
       "  <tbody>\n",
       "    <tr>\n",
       "      <th>EIGHTH WARD</th>\n",
       "      <td>8</td>\n",
       "      <td>3</td>\n",
       "    </tr>\n",
       "    <tr>\n",
       "      <th>ELEVENTH WARD</th>\n",
       "      <td>6</td>\n",
       "      <td>9</td>\n",
       "    </tr>\n",
       "    <tr>\n",
       "      <th>FIFTEENTH WARD</th>\n",
       "      <td>14</td>\n",
       "      <td>4</td>\n",
       "    </tr>\n",
       "    <tr>\n",
       "      <th>FIFTH WARD</th>\n",
       "      <td>5</td>\n",
       "      <td>2</td>\n",
       "    </tr>\n",
       "    <tr>\n",
       "      <th>FIRST WARD</th>\n",
       "      <td>9</td>\n",
       "      <td>0</td>\n",
       "    </tr>\n",
       "    <tr>\n",
       "      <th>FOURTEENTH WARD</th>\n",
       "      <td>14</td>\n",
       "      <td>10</td>\n",
       "    </tr>\n",
       "    <tr>\n",
       "      <th>FOURTH WARD</th>\n",
       "      <td>12</td>\n",
       "      <td>2</td>\n",
       "    </tr>\n",
       "    <tr>\n",
       "      <th>NINTH WARD</th>\n",
       "      <td>17</td>\n",
       "      <td>15</td>\n",
       "    </tr>\n",
       "    <tr>\n",
       "      <th>SECOND WARD</th>\n",
       "      <td>45</td>\n",
       "      <td>6</td>\n",
       "    </tr>\n",
       "    <tr>\n",
       "      <th>SEVENTH WARD</th>\n",
       "      <td>15</td>\n",
       "      <td>1</td>\n",
       "    </tr>\n",
       "    <tr>\n",
       "      <th>SIXTH WARD</th>\n",
       "      <td>83</td>\n",
       "      <td>13</td>\n",
       "    </tr>\n",
       "    <tr>\n",
       "      <th>TENTH WARD</th>\n",
       "      <td>19</td>\n",
       "      <td>25</td>\n",
       "    </tr>\n",
       "    <tr>\n",
       "      <th>THIRD WARD</th>\n",
       "      <td>33</td>\n",
       "      <td>6</td>\n",
       "    </tr>\n",
       "    <tr>\n",
       "      <th>THIRTEENTH WARD</th>\n",
       "      <td>23</td>\n",
       "      <td>19</td>\n",
       "    </tr>\n",
       "    <tr>\n",
       "      <th>TWELFTH WARD</th>\n",
       "      <td>5</td>\n",
       "      <td>1</td>\n",
       "    </tr>\n",
       "  </tbody>\n",
       "</table>\n",
       "</div>"
      ],
      "text/plain": [
       "room_type        Entire home/apt  Private room\n",
       "neighbourhood                                 \n",
       "EIGHTH WARD                    8             3\n",
       "ELEVENTH WARD                  6             9\n",
       "FIFTEENTH WARD                14             4\n",
       "FIFTH WARD                     5             2\n",
       "FIRST WARD                     9             0\n",
       "FOURTEENTH WARD               14            10\n",
       "FOURTH WARD                   12             2\n",
       "NINTH WARD                    17            15\n",
       "SECOND WARD                   45             6\n",
       "SEVENTH WARD                  15             1\n",
       "SIXTH WARD                    83            13\n",
       "TENTH WARD                    19            25\n",
       "THIRD WARD                    33             6\n",
       "THIRTEENTH WARD               23            19\n",
       "TWELFTH WARD                   5             1"
      ]
     },
     "execution_count": 23,
     "metadata": {},
     "output_type": "execute_result"
    }
   ],
   "source": [
    "#Mejoremos la visualización, pero antes filtremos el dataset para simplificar el código\n",
    "\n",
    "data_categoricas=data.loc[:, ['neighbourhood','room_type']]\n",
    "\n",
    "Tabla = pd.crosstab(index=data_categoricas.neighbourhood,columns=data_categoricas[\"room_type\"])\n",
    "Tabla\n",
    "\n",
    "# Se obtuvo el mismo resultado?"
   ]
  },
  {
   "cell_type": "code",
   "execution_count": 24,
   "metadata": {},
   "outputs": [
    {
     "data": {
      "image/png": "[encoded data removed]",
      "text/plain": [
       "<Figure size 600x600 with 1 Axes>"
      ]
     },
     "metadata": {},
     "output_type": "display_data"
    }
   ],
   "source": [
    "\n",
    "# Agrupamos por la variable 'v' y contamos ocurrencias\n",
    "conteo = data_categoricas['room_type'].value_counts()\n",
    "\n",
    "# Creamos el gráfico de torta\n",
    "conteo.plot.pie(autopct='%1.1f%%', startangle=90, figsize=(6, 6))\n",
    "\n",
    "# Opcional: agregar título\n",
    "plt.title('Distribución de la variable Room Type')\n",
    "\n",
    "# Eliminar el eje Y que se añade por defecto\n",
    "plt.ylabel('')\n",
    "\n",
    "# Mostrar el gráfico\n",
    "plt.show()"
   ]
  },
  {
   "cell_type": "markdown",
   "metadata": {},
   "source": [
    "## Análisis bivariado (Variables continuas vs Variables categóricas)\n",
    "Ahora vamos a integrar los dos tipos de variables en el análisis"
   ]
  },
  {
   "cell_type": "code",
   "execution_count": 25,
   "metadata": {},
   "outputs": [
    {
     "data": {
      "text/html": [
       "<div>\n",
       "<style scoped>\n",
       "    .dataframe tbody tr th:only-of-type {\n",
       "        vertical-align: middle;\n",
       "    }\n",
       "\n",
       "    .dataframe tbody tr th {\n",
       "        vertical-align: top;\n",
       "    }\n",
       "\n",
       "    .dataframe thead th {\n",
       "        text-align: right;\n",
       "    }\n",
       "</style>\n",
       "<table border=\"1\" class=\"dataframe\">\n",
       "  <thead>\n",
       "    <tr style=\"text-align: right;\">\n",
       "      <th></th>\n",
       "      <th>price</th>\n",
       "      <th>minimum_nights</th>\n",
       "      <th>availability_365</th>\n",
       "      <th>room_type</th>\n",
       "      <th>neighbourhood</th>\n",
       "    </tr>\n",
       "  </thead>\n",
       "  <tbody>\n",
       "    <tr>\n",
       "      <th>0</th>\n",
       "      <td>882.0</td>\n",
       "      <td>1</td>\n",
       "      <td>330</td>\n",
       "      <td>Entire home/apt</td>\n",
       "      <td>FOURTEENTH WARD</td>\n",
       "    </tr>\n",
       "    <tr>\n",
       "      <th>1</th>\n",
       "      <td>106.0</td>\n",
       "      <td>1</td>\n",
       "      <td>86</td>\n",
       "      <td>Entire home/apt</td>\n",
       "      <td>THIRTEENTH WARD</td>\n",
       "    </tr>\n",
       "    <tr>\n",
       "      <th>2</th>\n",
       "      <td>99.0</td>\n",
       "      <td>1</td>\n",
       "      <td>341</td>\n",
       "      <td>Entire home/apt</td>\n",
       "      <td>SIXTH WARD</td>\n",
       "    </tr>\n",
       "    <tr>\n",
       "      <th>3</th>\n",
       "      <td>58.0</td>\n",
       "      <td>2</td>\n",
       "      <td>248</td>\n",
       "      <td>Entire home/apt</td>\n",
       "      <td>NINTH WARD</td>\n",
       "    </tr>\n",
       "    <tr>\n",
       "      <th>4</th>\n",
       "      <td>50.0</td>\n",
       "      <td>2</td>\n",
       "      <td>340</td>\n",
       "      <td>Private room</td>\n",
       "      <td>NINTH WARD</td>\n",
       "    </tr>\n",
       "  </tbody>\n",
       "</table>\n",
       "</div>"
      ],
      "text/plain": [
       "   price  minimum_nights  availability_365        room_type    neighbourhood\n",
       "0  882.0               1               330  Entire home/apt  FOURTEENTH WARD\n",
       "1  106.0               1                86  Entire home/apt  THIRTEENTH WARD\n",
       "2   99.0               1               341  Entire home/apt       SIXTH WARD\n",
       "3   58.0               2               248  Entire home/apt       NINTH WARD\n",
       "4   50.0               2               340     Private room       NINTH WARD"
      ]
     },
     "execution_count": 25,
     "metadata": {},
     "output_type": "execute_result"
    }
   ],
   "source": [
    "#Exploración de variables continuas y categórica a través de análisi bivariados.\n",
    "#Vamos a filtras las variables a analizar\n",
    "\n",
    "data_bivariado=data.loc[:, ['price','minimum_nights', 'availability_365', 'room_type', 'neighbourhood']]\n",
    "data_bivariado.head()"
   ]
  },
  {
   "cell_type": "code",
   "execution_count": 26,
   "metadata": {},
   "outputs": [
    {
     "data": {
      "text/html": [
       "<div>\n",
       "<style scoped>\n",
       "    .dataframe tbody tr th:only-of-type {\n",
       "        vertical-align: middle;\n",
       "    }\n",
       "\n",
       "    .dataframe tbody tr th {\n",
       "        vertical-align: top;\n",
       "    }\n",
       "\n",
       "    .dataframe thead th {\n",
       "        text-align: right;\n",
       "    }\n",
       "</style>\n",
       "<table border=\"1\" class=\"dataframe\">\n",
       "  <thead>\n",
       "    <tr style=\"text-align: right;\">\n",
       "      <th>room_type</th>\n",
       "      <th>Entire home/apt</th>\n",
       "      <th>Private room</th>\n",
       "    </tr>\n",
       "  </thead>\n",
       "  <tbody>\n",
       "    <tr>\n",
       "      <th>price</th>\n",
       "      <td>125.02</td>\n",
       "      <td>69.56</td>\n",
       "    </tr>\n",
       "  </tbody>\n",
       "</table>\n",
       "</div>"
      ],
      "text/plain": [
       "room_type  Entire home/apt  Private room\n",
       "price               125.02         69.56"
      ]
     },
     "execution_count": 26,
     "metadata": {},
     "output_type": "execute_result"
    }
   ],
   "source": [
    "#El siguiente código nos permite responder a la pregunta de ¿Cuál es el precio promedio de alquiler por tipo de habitación?\n",
    "\n",
    "data_bivariado.pivot_table(values='price',columns='room_type',aggfunc=\"mean\").round(2)"
   ]
  },
  {
   "cell_type": "code",
   "execution_count": 27,
   "metadata": {},
   "outputs": [
    {
     "data": {
      "text/html": [
       "<div>\n",
       "<style scoped>\n",
       "    .dataframe tbody tr th:only-of-type {\n",
       "        vertical-align: middle;\n",
       "    }\n",
       "\n",
       "    .dataframe tbody tr th {\n",
       "        vertical-align: top;\n",
       "    }\n",
       "\n",
       "    .dataframe thead tr th {\n",
       "        text-align: left;\n",
       "    }\n",
       "</style>\n",
       "<table border=\"1\" class=\"dataframe\">\n",
       "  <thead>\n",
       "    <tr>\n",
       "      <th></th>\n",
       "      <th colspan=\"2\" halign=\"left\">mean</th>\n",
       "      <th colspan=\"2\" halign=\"left\">median</th>\n",
       "      <th colspan=\"2\" halign=\"left\">std</th>\n",
       "    </tr>\n",
       "    <tr>\n",
       "      <th>room_type</th>\n",
       "      <th>Entire home/apt</th>\n",
       "      <th>Private room</th>\n",
       "      <th>Entire home/apt</th>\n",
       "      <th>Private room</th>\n",
       "      <th>Entire home/apt</th>\n",
       "      <th>Private room</th>\n",
       "    </tr>\n",
       "  </thead>\n",
       "  <tbody>\n",
       "    <tr>\n",
       "      <th>price</th>\n",
       "      <td>125.02</td>\n",
       "      <td>69.56</td>\n",
       "      <td>101.0</td>\n",
       "      <td>56.0</td>\n",
       "      <td>94.17</td>\n",
       "      <td>40.98</td>\n",
       "    </tr>\n",
       "  </tbody>\n",
       "</table>\n",
       "</div>"
      ],
      "text/plain": [
       "                     mean                       median               \\\n",
       "room_type Entire home/apt Private room Entire home/apt Private room   \n",
       "price              125.02        69.56           101.0         56.0   \n",
       "\n",
       "                      std               \n",
       "room_type Entire home/apt Private room  \n",
       "price               94.17        40.98  "
      ]
     },
     "execution_count": 27,
     "metadata": {},
     "output_type": "execute_result"
    }
   ],
   "source": [
    "#Ahora vamos a ajustar la sintaxis para obtener distintas métricas para la misma variable\n",
    "\n",
    "data_bivariado.pivot_table(values='price',columns='room_type',aggfunc=[\"mean\", \"median\", \"std\"]).round(2)"
   ]
  },
  {
   "cell_type": "code",
   "execution_count": 28,
   "metadata": {},
   "outputs": [
    {
     "name": "stdout",
     "output_type": "stream",
     "text": [
      "  level_0        room_type    mean  median    std\n",
      "0   price  Entire home/apt  125.02   101.0  94.17\n",
      "1   price     Private room   69.56    56.0  40.98\n"
     ]
    }
   ],
   "source": [
    "# Mejoremos la visualización\n",
    "\n",
    "tabla=data_bivariado.pivot_table(values='price',columns='room_type',aggfunc=['mean', 'median', 'std']).round(2)\n",
    "tabla_final = tabla.stack(level=1, future_stack=True).reset_index()\n",
    "print(tabla_final)"
   ]
  },
  {
   "cell_type": "code",
   "execution_count": 29,
   "metadata": {},
   "outputs": [
    {
     "name": "stdout",
     "output_type": "stream",
     "text": [
      "                                            mean                         \\\n",
      "                                availability_365 minimum_nights   price   \n",
      "room_type       neighbourhood                                             \n",
      "Entire home/apt EIGHTH WARD               226.25           5.25  195.25   \n",
      "                ELEVENTH WARD             242.33           1.83  114.20   \n",
      "                FIFTEENTH WARD            317.93           5.64  221.50   \n",
      "                FIFTH WARD                245.20           2.00  106.00   \n",
      "                FIRST WARD                173.44           5.78  134.86   \n",
      "                FOURTEENTH WARD           240.50           3.00  180.07   \n",
      "                FOURTH WARD               230.83           4.42  118.57   \n",
      "                NINTH WARD                257.29           7.71  151.80   \n",
      "                SECOND WARD               214.76           2.42  125.55   \n",
      "                SEVENTH WARD              213.13           6.07  104.00   \n",
      "                SIXTH WARD                234.64           4.39   97.86   \n",
      "                TENTH WARD                223.00           1.79  157.35   \n",
      "                THIRD WARD                262.94          11.48   87.38   \n",
      "                THIRTEENTH WARD           204.57           5.74  148.71   \n",
      "                TWELFTH WARD              163.00           7.60  107.00   \n",
      "Private room    EIGHTH WARD               169.00           1.00   62.33   \n",
      "                ELEVENTH WARD             309.56           6.67   43.57   \n",
      "                FIFTEENTH WARD            203.50           2.50   42.00   \n",
      "                FIFTH WARD                364.50           8.00   93.00   \n",
      "                FOURTEENTH WARD           142.00           4.10   60.80   \n",
      "                FOURTH WARD               178.50           2.00   87.00   \n",
      "                NINTH WARD                235.27           1.60   62.79   \n",
      "                SECOND WARD               187.00           1.17   89.80   \n",
      "                SEVENTH WARD              248.00           1.00   50.00   \n",
      "                SIXTH WARD                277.00           1.77  125.40   \n",
      "                TENTH WARD                248.60          16.16   68.95   \n",
      "                THIRD WARD                256.17          10.50   51.80   \n",
      "                THIRTEENTH WARD           209.84           9.95   63.00   \n",
      "                TWELFTH WARD              268.00           2.00   54.00   \n",
      "\n",
      "                                          median                        \\\n",
      "                                availability_365 minimum_nights  price   \n",
      "room_type       neighbourhood                                            \n",
      "Entire home/apt EIGHTH WARD                200.0            3.0  207.0   \n",
      "                ELEVENTH WARD              262.5            2.0  104.0   \n",
      "                FIFTEENTH WARD             334.0            1.0  181.5   \n",
      "                FIFTH WARD                 357.0            2.0  106.5   \n",
      "                FIRST WARD                 163.0            2.0  114.0   \n",
      "                FOURTEENTH WARD            256.0            1.0  123.5   \n",
      "                FOURTH WARD                284.5            1.0  104.0   \n",
      "                NINTH WARD                 250.0            2.0  101.0   \n",
      "                SECOND WARD                279.0            1.0  108.0   \n",
      "                SEVENTH WARD               252.0            2.0  106.5   \n",
      "                SIXTH WARD                 291.0            2.0   93.0   \n",
      "                TENTH WARD                 318.0            1.0  118.0   \n",
      "                THIRD WARD                 268.0            4.0   89.5   \n",
      "                THIRTEENTH WARD            207.0            2.0  109.0   \n",
      "                TWELFTH WARD               200.0            3.0  119.5   \n",
      "Private room    EIGHTH WARD                140.0            1.0   53.0   \n",
      "                ELEVENTH WARD              324.0            2.0   44.0   \n",
      "                FIFTEENTH WARD             230.5            2.5   41.0   \n",
      "                FIFTH WARD                 364.5            8.0   93.0   \n",
      "                FOURTEENTH WARD            109.0            1.0   59.5   \n",
      "                FOURTH WARD                178.5            2.0   87.0   \n",
      "                NINTH WARD                 266.0            2.0   53.0   \n",
      "                SECOND WARD                184.0            1.0   58.0   \n",
      "                SEVENTH WARD               248.0            1.0   50.0   \n",
      "                SIXTH WARD                 334.0            1.0  127.0   \n",
      "                TENTH WARD                 300.0           18.0   56.0   \n",
      "                THIRD WARD                 361.0            1.5   37.0   \n",
      "                THIRTEENTH WARD            239.0            3.0   56.0   \n",
      "                TWELFTH WARD               268.0            2.0   54.0   \n",
      "\n",
      "                                             std                         \n",
      "                                availability_365 minimum_nights   price  \n",
      "room_type       neighbourhood                                            \n",
      "Entire home/apt EIGHTH WARD               120.56           4.80   48.03  \n",
      "                ELEVENTH WARD             121.40           0.75   21.64  \n",
      "                FIFTEENTH WARD             64.16          10.36  142.56  \n",
      "                FIFTH WARD                157.52           0.71   12.99  \n",
      "                FIRST WARD                131.35           9.31   63.71  \n",
      "                FOURTEENTH WARD            92.00           3.62  210.39  \n",
      "                FOURTH WARD               113.02           8.76   27.99  \n",
      "                NINTH WARD                 95.90          17.48  183.49  \n",
      "                SECOND WARD               129.41           3.47   65.36  \n",
      "                SEVENTH WARD              145.84           9.59   42.72  \n",
      "                SIXTH WARD                126.84           7.73   27.44  \n",
      "                TENTH WARD                140.31           1.44  109.35  \n",
      "                THIRD WARD                 90.84          12.33   18.06  \n",
      "                THIRTEENTH WARD           115.37          12.70  149.22  \n",
      "                TWELFTH WARD              112.21          11.41   32.09  \n",
      "Private room    EIGHTH WARD               182.24           0.00   16.17  \n",
      "                ELEVENTH WARD              51.03           7.81    9.07  \n",
      "                FIFTEENTH WARD            171.93           0.58    4.58  \n",
      "                FIFTH WARD                  0.71           9.90     NaN  \n",
      "                FOURTEENTH WARD            86.55           8.43    8.00  \n",
      "                FOURTH WARD                 0.71           1.41   24.04  \n",
      "                NINTH WARD                103.18           0.51   31.89  \n",
      "                SECOND WARD               146.21           0.41   63.58  \n",
      "                SEVENTH WARD                 NaN            NaN     NaN  \n",
      "                SIXTH WARD                113.72           1.54   66.57  \n",
      "                TENTH WARD                119.71          12.90   42.37  \n",
      "                THIRD WARD                166.69          14.35   24.36  \n",
      "                THIRTEENTH WARD           107.85          12.20   25.54  \n",
      "                TWELFTH WARD                 NaN            NaN     NaN  \n"
     ]
    }
   ],
   "source": [
    "# Ahora vamos a incluir más variables continuas\n",
    "tabla_multi = data_bivariado.pivot_table(\n",
    "    values=['price', 'minimum_nights', 'availability_365'],\n",
    "    index=['room_type', 'neighbourhood'],\n",
    "    aggfunc=['mean', 'median', 'std']\n",
    ").round(2)\n",
    "\n",
    "print(tabla_multi)"
   ]
  },
  {
   "cell_type": "code",
   "execution_count": 30,
   "metadata": {},
   "outputs": [
    {
     "data": {
      "text/plain": [
       "<Axes: title={'center': 'price'}, xlabel='room_type'>"
      ]
     },
     "execution_count": 30,
     "metadata": {},
     "output_type": "execute_result"
    },
    {
     "data": {
      "image/png": "[encoded data removed]",
      "text/plain": [
       "<Figure size 500x500 with 1 Axes>"
      ]
     },
     "metadata": {},
     "output_type": "display_data"
    }
   ],
   "source": [
    "# Ahora vamos a realizar el análisis con los boxplot\n",
    "data_bivariado.boxplot('price',by=\"room_type\", figsize=(5,5))"
   ]
  },
  {
   "cell_type": "code",
   "execution_count": 31,
   "metadata": {},
   "outputs": [
    {
     "data": {
      "text/html": [
       "<div>\n",
       "<style scoped>\n",
       "    .dataframe tbody tr th:only-of-type {\n",
       "        vertical-align: middle;\n",
       "    }\n",
       "\n",
       "    .dataframe tbody tr th {\n",
       "        vertical-align: top;\n",
       "    }\n",
       "\n",
       "    .dataframe thead th {\n",
       "        text-align: right;\n",
       "    }\n",
       "</style>\n",
       "<table border=\"1\" class=\"dataframe\">\n",
       "  <thead>\n",
       "    <tr style=\"text-align: right;\">\n",
       "      <th></th>\n",
       "      <th>id</th>\n",
       "      <th>name</th>\n",
       "      <th>host_id</th>\n",
       "      <th>host_name</th>\n",
       "      <th>neighbourhood_group</th>\n",
       "      <th>neighbourhood</th>\n",
       "      <th>latitude</th>\n",
       "      <th>longitude</th>\n",
       "      <th>room_type</th>\n",
       "      <th>price</th>\n",
       "      <th>minimum_nights</th>\n",
       "      <th>number_of_reviews</th>\n",
       "      <th>last_review</th>\n",
       "      <th>reviews_per_month</th>\n",
       "      <th>calculated_host_listings_count</th>\n",
       "      <th>availability_365</th>\n",
       "      <th>number_of_reviews_ltm</th>\n",
       "      <th>license</th>\n",
       "    </tr>\n",
       "  </thead>\n",
       "  <tbody>\n",
       "    <tr>\n",
       "      <th>4</th>\n",
       "      <td>24606880</td>\n",
       "      <td>The Western Suite</td>\n",
       "      <td>98744672</td>\n",
       "      <td>Bela</td>\n",
       "      <td>NaN</td>\n",
       "      <td>NINTH WARD</td>\n",
       "      <td>42.65431</td>\n",
       "      <td>-73.78178</td>\n",
       "      <td>Private room</td>\n",
       "      <td>50.0</td>\n",
       "      <td>2</td>\n",
       "      <td>48</td>\n",
       "      <td>2025-02-27</td>\n",
       "      <td>0.62</td>\n",
       "      <td>8</td>\n",
       "      <td>340</td>\n",
       "      <td>9</td>\n",
       "      <td>NaN</td>\n",
       "    </tr>\n",
       "    <tr>\n",
       "      <th>11</th>\n",
       "      <td>937927979762952960</td>\n",
       "      <td>Hudson 4 at The Argus Hotel</td>\n",
       "      <td>526358730</td>\n",
       "      <td>Argus</td>\n",
       "      <td>NaN</td>\n",
       "      <td>TENTH WARD</td>\n",
       "      <td>42.66043</td>\n",
       "      <td>-73.77432</td>\n",
       "      <td>Private room</td>\n",
       "      <td>165.0</td>\n",
       "      <td>1</td>\n",
       "      <td>2</td>\n",
       "      <td>2024-10-12</td>\n",
       "      <td>0.33</td>\n",
       "      <td>12</td>\n",
       "      <td>300</td>\n",
       "      <td>2</td>\n",
       "      <td>NaN</td>\n",
       "    </tr>\n",
       "    <tr>\n",
       "      <th>12</th>\n",
       "      <td>937837897631191808</td>\n",
       "      <td>Hudson 2 at The Argus Hotel</td>\n",
       "      <td>526358730</td>\n",
       "      <td>Argus</td>\n",
       "      <td>NaN</td>\n",
       "      <td>SIXTH WARD</td>\n",
       "      <td>42.65867</td>\n",
       "      <td>-73.77479</td>\n",
       "      <td>Private room</td>\n",
       "      <td>165.0</td>\n",
       "      <td>1</td>\n",
       "      <td>2</td>\n",
       "      <td>2023-12-31</td>\n",
       "      <td>0.11</td>\n",
       "      <td>12</td>\n",
       "      <td>304</td>\n",
       "      <td>0</td>\n",
       "      <td>NaN</td>\n",
       "    </tr>\n",
       "    <tr>\n",
       "      <th>15</th>\n",
       "      <td>938271786418327552</td>\n",
       "      <td>Knickerbocker 3 The Argus Hotel</td>\n",
       "      <td>526358730</td>\n",
       "      <td>Argus</td>\n",
       "      <td>NaN</td>\n",
       "      <td>SIXTH WARD</td>\n",
       "      <td>42.65868</td>\n",
       "      <td>-73.77333</td>\n",
       "      <td>Private room</td>\n",
       "      <td>243.0</td>\n",
       "      <td>1</td>\n",
       "      <td>0</td>\n",
       "      <td>NaT</td>\n",
       "      <td>NaN</td>\n",
       "      <td>12</td>\n",
       "      <td>340</td>\n",
       "      <td>0</td>\n",
       "      <td>NaN</td>\n",
       "    </tr>\n",
       "    <tr>\n",
       "      <th>16</th>\n",
       "      <td>937935210290408960</td>\n",
       "      <td>Hudson 5 at The Argus Hotel</td>\n",
       "      <td>526358730</td>\n",
       "      <td>Argus</td>\n",
       "      <td>NaN</td>\n",
       "      <td>SIXTH WARD</td>\n",
       "      <td>42.65847</td>\n",
       "      <td>-73.77272</td>\n",
       "      <td>Private room</td>\n",
       "      <td>161.0</td>\n",
       "      <td>1</td>\n",
       "      <td>5</td>\n",
       "      <td>2024-12-29</td>\n",
       "      <td>0.30</td>\n",
       "      <td>12</td>\n",
       "      <td>336</td>\n",
       "      <td>4</td>\n",
       "      <td>NaN</td>\n",
       "    </tr>\n",
       "  </tbody>\n",
       "</table>\n",
       "</div>"
      ],
      "text/plain": [
       "                    id                             name    host_id host_name  \\\n",
       "4             24606880                The Western Suite   98744672      Bela   \n",
       "11  937927979762952960      Hudson 4 at The Argus Hotel  526358730     Argus   \n",
       "12  937837897631191808      Hudson 2 at The Argus Hotel  526358730     Argus   \n",
       "15  938271786418327552  Knickerbocker 3 The Argus Hotel  526358730     Argus   \n",
       "16  937935210290408960      Hudson 5 at The Argus Hotel  526358730     Argus   \n",
       "\n",
       "    neighbourhood_group neighbourhood  latitude  longitude     room_type  \\\n",
       "4                   NaN    NINTH WARD  42.65431  -73.78178  Private room   \n",
       "11                  NaN    TENTH WARD  42.66043  -73.77432  Private room   \n",
       "12                  NaN    SIXTH WARD  42.65867  -73.77479  Private room   \n",
       "15                  NaN    SIXTH WARD  42.65868  -73.77333  Private room   \n",
       "16                  NaN    SIXTH WARD  42.65847  -73.77272  Private room   \n",
       "\n",
       "    price  minimum_nights  number_of_reviews last_review  reviews_per_month  \\\n",
       "4    50.0               2                 48  2025-02-27               0.62   \n",
       "11  165.0               1                  2  2024-10-12               0.33   \n",
       "12  165.0               1                  2  2023-12-31               0.11   \n",
       "15  243.0               1                  0         NaT                NaN   \n",
       "16  161.0               1                  5  2024-12-29               0.30   \n",
       "\n",
       "    calculated_host_listings_count  availability_365  number_of_reviews_ltm  \\\n",
       "4                                8               340                      9   \n",
       "11                              12               300                      2   \n",
       "12                              12               304                      0   \n",
       "15                              12               340                      0   \n",
       "16                              12               336                      4   \n",
       "\n",
       "    license  \n",
       "4       NaN  \n",
       "11      NaN  \n",
       "12      NaN  \n",
       "15      NaN  \n",
       "16      NaN  "
      ]
     },
     "execution_count": 31,
     "metadata": {},
     "output_type": "execute_result"
    }
   ],
   "source": [
    "df_private_room= data[data['room_type'] == 'Private room']\n",
    "df_private_room.head(5)"
   ]
  },
  {
   "cell_type": "markdown",
   "metadata": {},
   "source": [
    "## Bonus track\n",
    "#### Métricas disponibles en numpy para variables continuas"
   ]
  },
  {
   "cell_type": "markdown",
   "metadata": {},
   "source": [
    "### 📊 Estadísticas básicas\n",
    "\n",
    "| Métrica     | Descripción           | Ejemplo en `aggfunc`    |\n",
    "|-------------|------------------------|--------------------------|\n",
    "| `np.mean`   | Media (promedio)       | `aggfunc=np.mean`       |\n",
    "| `np.sum`    | Suma total             | `aggfunc=np.sum`        |\n",
    "| `np.min`    | Valor mínimo           | `aggfunc=np.min`        |\n",
    "| `np.max`    | Valor máximo           | `aggfunc=np.max`        |\n",
    "| `np.median` | Mediana                | `aggfunc=np.median`     |\n",
    "| `np.std`    | Desviación estándar    | `aggfunc=np.std`        |\n",
    "| `np.var`    | Varianza               | `aggfunc=np.var       |\n",
    "`        |"
   ]
  }
 ],
 "metadata": {
  "kernelspec": {
   "display_name": "entorno_analitica_datos",
   "language": "python",
   "name": "python3"
  },
  "language_info": {
   "codemirror_mode": {
    "name": "ipython",
    "version": 3
   },
   "file_extension": ".py",
   "mimetype": "text/x-python",
   "name": "python",
   "nbconvert_exporter": "python",
   "pygments_lexer": "ipython3",
   "version": "3.13.5"
  }
 },
 "nbformat": 4,
 "nbformat_minor": 4
}
